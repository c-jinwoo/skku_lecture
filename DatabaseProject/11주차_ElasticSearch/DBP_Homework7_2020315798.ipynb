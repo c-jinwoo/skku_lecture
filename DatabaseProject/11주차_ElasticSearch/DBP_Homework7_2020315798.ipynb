{
 "cells": [
  {
   "cell_type": "code",
   "execution_count": 1,
   "metadata": {},
   "outputs": [
    {
     "name": "stdout",
     "output_type": "stream",
     "text": [
      "Requirement already satisfied: pandas in /opt/conda/lib/python3.11/site-packages (2.1.2)\n",
      "Requirement already satisfied: numpy in /opt/conda/lib/python3.11/site-packages (1.26.1)\n",
      "Requirement already satisfied: tqdm in /opt/conda/lib/python3.11/site-packages (4.66.1)\n",
      "Requirement already satisfied: python-dateutil>=2.8.2 in /opt/conda/lib/python3.11/site-packages (from pandas) (2.8.2)\n",
      "Requirement already satisfied: pytz>=2020.1 in /opt/conda/lib/python3.11/site-packages (from pandas) (2023.3.post1)\n",
      "Requirement already satisfied: tzdata>=2022.1 in /opt/conda/lib/python3.11/site-packages (from pandas) (2023.3)\n",
      "Requirement already satisfied: six>=1.5 in /opt/conda/lib/python3.11/site-packages (from python-dateutil>=2.8.2->pandas) (1.16.0)\n"
     ]
    }
   ],
   "source": [
    "!pip install pandas numpy tqdm"
   ]
  },
  {
   "cell_type": "code",
   "execution_count": 2,
   "metadata": {},
   "outputs": [],
   "source": [
    "import pandas as pd\n",
    "import numpy as np\n",
    "import json\n",
    "from elasticsearch import Elasticsearch\n",
    "from tqdm import tqdm"
   ]
  },
  {
   "cell_type": "code",
   "execution_count": 3,
   "metadata": {},
   "outputs": [],
   "source": [
    "ELASTIC_USERNAME = \"elastic\"\n",
    "ELASTIC_PASSWORD = \"skkudbp\"\n",
    "ELASTIC_PATH = \"https://es01:9200\""
   ]
  },
  {
   "cell_type": "markdown",
   "metadata": {},
   "source": [
    "# You must write your code and result in your **DOCUMENT ALSO**\n",
    "## Connect to the elasticsearch"
   ]
  },
  {
   "cell_type": "code",
   "execution_count": 4,
   "metadata": {},
   "outputs": [],
   "source": [
    "######## DO NOT EDIT HERE ########\n",
    "\n",
    "def connect_to_elastic() -> Elasticsearch:\n",
    "    client = Elasticsearch(\n",
    "        ELASTIC_PATH,\n",
    "        ca_certs = \"/home/jovyan/certs/ca/ca.crt\",\n",
    "        basic_auth=(ELASTIC_USERNAME, ELASTIC_PASSWORD),\n",
    "    )\n",
    "    return client\n",
    "client = connect_to_elastic()\n",
    "\n",
    "######## DO NOT EDIT HERE ########"
   ]
  },
  {
   "cell_type": "markdown",
   "metadata": {},
   "source": [
    "## **[5pts]** Write mapping for the index"
   ]
  },
  {
   "cell_type": "code",
   "execution_count": 12,
   "metadata": {},
   "outputs": [],
   "source": [
    "INDEX_NAME = \"movie_review\"\n",
    "######## EDIT HERE ########\n",
    "mapping = {\n",
    "    \"movieId\": {\n",
    "        \"type\": \"integer\" # Fill in the blank\n",
    "    },\n",
    "    \"title\": {\n",
    "        \"type\": \"text\"\n",
    "    },\n",
    "    \"genres\": {\n",
    "        \"type\": \"text\"\n",
    "    },\n",
    "    \"imdbId\": {\n",
    "        \"type\": \"integer\"\n",
    "    },\n",
    "    \"tmdbId\": {\n",
    "        \"type\": \"integer\"\n",
    "    },\n",
    "    \"userId\": {\n",
    "        \"type\": \"integer\"\n",
    "    },\n",
    "    \"rating\": {\n",
    "        \"type\": \"float\"\n",
    "    },\n",
    "    \"timestamp\": {\n",
    "        \"type\": \"date\"\n",
    "    }}\n",
    "######## EDIT HERE ########"
   ]
  },
  {
   "cell_type": "markdown",
   "metadata": {},
   "source": [
    "## **[5pts]** Create Index"
   ]
  },
  {
   "cell_type": "code",
   "execution_count": 13,
   "metadata": {},
   "outputs": [],
   "source": [
    "if not client.indices.exists(index=INDEX_NAME):\n",
    "    ######## EDIT HERE ########\n",
    "    client.indices.create(index=INDEX_NAME, body={\"mappings\":{\"properties\":mapping}})\n",
    "    ######## EDIT HERE ########"
   ]
  },
  {
   "cell_type": "markdown",
   "metadata": {},
   "source": [
    "## **[5pts]** Insert documents"
   ]
  },
  {
   "cell_type": "code",
   "execution_count": 14,
   "metadata": {},
   "outputs": [],
   "source": [
    "with open('./movie_data.json', 'r') as f:\n",
    "    movie_json = json.load(f)\n",
    "    ######## EDIT HERE ########\n",
    "    for id_doc, document in enumerate(movie_json):\n",
    "        client.index(index=INDEX_NAME, id=id_doc, body=document)\n",
    "    ######## EDIT HERE ########"
   ]
  },
  {
   "cell_type": "markdown",
   "metadata": {},
   "source": [
    "# **[30pts]** Write a query for the given questions and report the results."
   ]
  },
  {
   "cell_type": "markdown",
   "metadata": {},
   "source": [
    "## **[10pts]** What is the total <U>number of reviews</U> for the films that contain the <U>both \"Action\" and \"Crime\"</U> genres?"
   ]
  },
  {
   "cell_type": "code",
   "execution_count": 30,
   "metadata": {},
   "outputs": [
    {
     "name": "stdout",
     "output_type": "stream",
     "text": [
      "77\n"
     ]
    }
   ],
   "source": [
    "query = {\n",
    "    ######## EDIT HERE ########\n",
    "    \"size\": 1000,\n",
    "    \"query\": {\n",
    "        \"bool\": {\n",
    "            \"filter\": [\n",
    "                {\"match\": {\"genres\": \"Action\"}},\n",
    "                {\"match\": {\"genres\": \"Crime\"}}\n",
    "            ]\n",
    "        }\n",
    "    }\n",
    "    ######## EDIT HERE ########\n",
    "}\n",
    "\n",
    "######## DO NOT EDIT HERE ########\n",
    "response = client.search(index=INDEX_NAME, body=query)\n",
    "print(len(response['hits']['hits']))\n",
    "######## DO NOT EDIT HERE ########"
   ]
  },
  {
   "cell_type": "markdown",
   "metadata": {},
   "source": [
    "## **[10pts]** What is the total <U>number of reviews</U> for the films that contain the <U>\"Sci-Fi\"</U> genres and have a <U>rating 4.0 or more but 5.0 or less</U> and report <U>the list of the films</U>."
   ]
  },
  {
   "cell_type": "code",
   "execution_count": 35,
   "metadata": {},
   "outputs": [
    {
     "name": "stdout",
     "output_type": "stream",
     "text": [
      "Numbers of result: 72\n",
      "Robots (2005)\n",
      "Truman Show, The (1998)\n",
      "Doctor Strange (2016)\n",
      "Unbreakable (2000)\n",
      "V for Vendetta (2006)\n",
      "Star Wars: Episode V - The Empire Strikes Back (1980)\n",
      "Pandorum (2009)\n",
      "Ghost in the Shell 2.0 (2008)\n",
      "Aliens (1986)\n",
      "Island, The (2005)\n",
      "Interstellar (2014)\n",
      "2010: The Year We Make Contact (1984)\n",
      "X-Men (2000)\n",
      "Blob, The (1958)\n",
      "Hollow Man (2000)\n",
      "Piranha (1978)\n",
      "Stepford Wives, The (1975)\n",
      "The Hunger Games: Mockingjay - Part 1 (2014)\n",
      "Star Trek: First Contact (1996)\n",
      "Altered States (1980)\n",
      "Avatar (2009)\n",
      "RoboCop (1987)\n",
      "Blood of Heroes, The (Salute of the Jugger, The) (1989)\n",
      "Matrix Revolutions, The (2003)\n",
      "Final Fantasy: The Spirits Within (2001)\n",
      "Inception (2010)\n",
      "Battlestar Galactica (2003)\n",
      "Flash Gordon (1980)\n",
      "Bill & Ted's Excellent Adventure (1989)\n",
      "Cube (1997)\n",
      "Superman Returns (2006)\n",
      "Splice (2009)\n",
      "Dune (1984)\n",
      "Ex Machina (2015)\n",
      "The Hunger Games (2012)\n",
      "Blade Runner (1982)\n",
      "Back to the Future (1985)\n",
      "World's End, The (2013)\n",
      "WALL·E (2008)\n",
      "Thor: Ragnarok (2017)\n",
      "Spider-Man (2002)\n",
      "Demolition Man (1993)\n",
      "Mad Max: Fury Road (2015)\n",
      "Brazil (1985)\n",
      "Iron Man 2 (2010)\n",
      "Iron Giant, The (1999)\n",
      "Star Wars: Episode VI - Return of the Jedi (1983)\n",
      "K-PAX (2001)\n",
      "Matrix Reloaded, The (2003)\n",
      "X2: X-Men United (2003)\n",
      "Total Recall (1990)\n",
      "Outbreak (1995)\n",
      "I Am Legend (2007)\n",
      "Star Trek VI: The Undiscovered Country (1991)\n",
      "Dune (2000)\n",
      "Evolution (2001)\n",
      "Back to the Future Part II (1989)\n",
      "Twelve Monkeys (a.k.a. 12 Monkeys) (1995)\n"
     ]
    }
   ],
   "source": [
    "query = {\n",
    "    ######## EDIT HERE ########   \n",
    "    \"size\": 1000, \n",
    "    \"query\": {\n",
    "        \"bool\": {\n",
    "            \"must\": [\n",
    "                {\"match\": {\"genres\": \"Sci-Fi\"}},\n",
    "                {\"range\": {\"rating\": {\"gte\": 4.0, \"lte\": 5.0}}}\n",
    "            ]\n",
    "        }\n",
    "    }\n",
    "    ######## EDIT HERE ########\n",
    "}\n",
    "\n",
    "######## DO NOT EDIT HERE ########\n",
    "response = client.search(index=INDEX_NAME, body=query)\n",
    "print(\"Numbers of result:\", response['hits']['total']['value'])\n",
    "\n",
    "movie_set = set()\n",
    "for res in response['hits']['hits']:\n",
    "    movie_set.add(res['_source']['title'])\n",
    "for movie in movie_set:\n",
    "    print(movie)\n",
    "######## DO NOT EDIT HERE ########"
   ]
  },
  {
   "cell_type": "markdown",
   "metadata": {},
   "source": [
    "## **[10pts]** Find the <U>10 lowest rated reviews</U> between <U>2005 and 2010</U>, in order."
   ]
  },
  {
   "cell_type": "code",
   "execution_count": 39,
   "metadata": {},
   "outputs": [
    {
     "name": "stdout",
     "output_type": "stream",
     "text": [
      "Raising Cain (1992) 0.5\n",
      "Titanic (1997) 0.5\n",
      "Client, The (1994) 0.5\n",
      "Darkness (2002) 0.5\n",
      "Sex, Lies, and Videotape (1989) 0.5\n",
      "Killer Shrews, The (1959) 0.5\n",
      "Alien: Resurrection (1997) 1.0\n",
      "Shrek (2001) 1.0\n",
      "Pee-wee's Big Adventure (1985) 1.0\n",
      "Legally Blonde (2001) 1.0\n"
     ]
    }
   ],
   "source": [
    "query = {\n",
    "    ######## EDIT HERE ########\n",
    "    \"size\": 10,\n",
    "    \"query\": {\n",
    "        \"bool\": {\n",
    "            \"filter\": [\n",
    "                {\"range\": {\"timestamp\": {\"gte\": \"2005-01-01\", \"lte\": \"2010-12-31\"}}}\n",
    "            ]\n",
    "        }\n",
    "    },\n",
    "    \"sort\": [\n",
    "        {\"rating\": {\"order\": \"asc\"}}\n",
    "    ]\n",
    "    ######## EDIT HERE ########\n",
    "}\n",
    "\n",
    "######## DO NOT EDIT HERE ########\n",
    "response = client.search(index=INDEX_NAME, body=query)\n",
    "for hit in response['hits']['hits']:\n",
    "    print(hit['_source']['title'], hit['_source']['rating'])\n",
    "######## DO NOT EDIT HERE ########"
   ]
  }
 ],
 "metadata": {
  "kernelspec": {
   "display_name": "Python 3 (ipykernel)",
   "language": "python",
   "name": "python3"
  },
  "language_info": {
   "codemirror_mode": {
    "name": "ipython",
    "version": 3
   },
   "file_extension": ".py",
   "mimetype": "text/x-python",
   "name": "python",
   "nbconvert_exporter": "python",
   "pygments_lexer": "ipython3",
   "version": "3.11.6"
  }
 },
 "nbformat": 4,
 "nbformat_minor": 4
}
