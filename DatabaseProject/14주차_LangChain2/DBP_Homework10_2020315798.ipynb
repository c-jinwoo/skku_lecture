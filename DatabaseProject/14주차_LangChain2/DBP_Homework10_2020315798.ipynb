{
  "nbformat": 4,
  "nbformat_minor": 0,
  "metadata": {
    "colab": {
      "provenance": []
    },
    "kernelspec": {
      "name": "python3",
      "display_name": "Python 3"
    },
    "language_info": {
      "name": "python"
    }
  },
  "cells": [
    {
      "cell_type": "markdown",
      "source": [
        "# Database Project (SWE3033) (Fall 2023)\n",
        "# Homework #10 (50pts, Due date: 12/06)"
      ],
      "metadata": {
        "id": "nbYWqHwQaEXQ"
      }
    },
    {
      "cell_type": "markdown",
      "source": [
        "**Instruction:** In this homework, we provide you with a jupyter notebook file (DBP_Homework10.ipynb). You should follow the instructions in these documents carefully."
      ],
      "metadata": {
        "id": "zk3KUyFCaUDL"
      }
    },
    {
      "cell_type": "markdown",
      "source": [
        "**Submit two files as follows**:\n",
        "- `DBP_Homework10_StudentID.zip`\n",
        "\t- `DBP_Homework10_StudentID.ipynb`\n",
        "\t- `DBP_Homework10_StudentID.pdf`\n",
        "   "
      ],
      "metadata": {
        "id": "mNHsKkNtaXAK"
      }
    },
    {
      "cell_type": "code",
      "execution_count": 115,
      "metadata": {
        "id": "Nyc4TeJwBVBh",
        "colab": {
          "base_uri": "https://localhost:8080/",
          "height": 1000
        },
        "outputId": "243cf68e-4659-4128-b7fb-9568f3f78df3"
      },
      "outputs": [
        {
          "output_type": "stream",
          "name": "stdout",
          "text": [
            "Requirement already satisfied: langchain in /usr/local/lib/python3.10/dist-packages (0.0.342)\n",
            "Requirement already satisfied: PyYAML>=5.3 in /usr/local/lib/python3.10/dist-packages (from langchain) (6.0.1)\n",
            "Requirement already satisfied: SQLAlchemy<3,>=1.4 in /usr/local/lib/python3.10/dist-packages (from langchain) (2.0.23)\n",
            "Requirement already satisfied: aiohttp<4.0.0,>=3.8.3 in /usr/local/lib/python3.10/dist-packages (from langchain) (3.8.6)\n",
            "Requirement already satisfied: anyio<4.0 in /usr/local/lib/python3.10/dist-packages (from langchain) (3.7.1)\n",
            "Requirement already satisfied: async-timeout<5.0.0,>=4.0.0 in /usr/local/lib/python3.10/dist-packages (from langchain) (4.0.3)\n",
            "Requirement already satisfied: dataclasses-json<0.7,>=0.5.7 in /usr/local/lib/python3.10/dist-packages (from langchain) (0.6.3)\n",
            "Requirement already satisfied: jsonpatch<2.0,>=1.33 in /usr/local/lib/python3.10/dist-packages (from langchain) (1.33)\n",
            "Requirement already satisfied: langchain-core<0.1,>=0.0.7 in /usr/local/lib/python3.10/dist-packages (from langchain) (0.0.7)\n",
            "Requirement already satisfied: langsmith<0.1.0,>=0.0.63 in /usr/local/lib/python3.10/dist-packages (from langchain) (0.0.67)\n",
            "Requirement already satisfied: numpy<2,>=1 in /usr/local/lib/python3.10/dist-packages (from langchain) (1.23.5)\n",
            "Requirement already satisfied: pydantic<3,>=1 in /usr/local/lib/python3.10/dist-packages (from langchain) (1.10.13)\n",
            "Requirement already satisfied: requests<3,>=2 in /usr/local/lib/python3.10/dist-packages (from langchain) (2.31.0)\n",
            "Requirement already satisfied: tenacity<9.0.0,>=8.1.0 in /usr/local/lib/python3.10/dist-packages (from langchain) (8.2.3)\n",
            "Requirement already satisfied: attrs>=17.3.0 in /usr/local/lib/python3.10/dist-packages (from aiohttp<4.0.0,>=3.8.3->langchain) (23.1.0)\n",
            "Requirement already satisfied: charset-normalizer<4.0,>=2.0 in /usr/local/lib/python3.10/dist-packages (from aiohttp<4.0.0,>=3.8.3->langchain) (3.3.2)\n",
            "Requirement already satisfied: multidict<7.0,>=4.5 in /usr/local/lib/python3.10/dist-packages (from aiohttp<4.0.0,>=3.8.3->langchain) (6.0.4)\n",
            "Requirement already satisfied: yarl<2.0,>=1.0 in /usr/local/lib/python3.10/dist-packages (from aiohttp<4.0.0,>=3.8.3->langchain) (1.9.2)\n",
            "Requirement already satisfied: frozenlist>=1.1.1 in /usr/local/lib/python3.10/dist-packages (from aiohttp<4.0.0,>=3.8.3->langchain) (1.4.0)\n",
            "Requirement already satisfied: aiosignal>=1.1.2 in /usr/local/lib/python3.10/dist-packages (from aiohttp<4.0.0,>=3.8.3->langchain) (1.3.1)\n",
            "Requirement already satisfied: idna>=2.8 in /usr/local/lib/python3.10/dist-packages (from anyio<4.0->langchain) (3.4)\n",
            "Requirement already satisfied: sniffio>=1.1 in /usr/local/lib/python3.10/dist-packages (from anyio<4.0->langchain) (1.3.0)\n",
            "Requirement already satisfied: exceptiongroup in /usr/local/lib/python3.10/dist-packages (from anyio<4.0->langchain) (1.1.3)\n",
            "Requirement already satisfied: marshmallow<4.0.0,>=3.18.0 in /usr/local/lib/python3.10/dist-packages (from dataclasses-json<0.7,>=0.5.7->langchain) (3.20.1)\n",
            "Requirement already satisfied: typing-inspect<1,>=0.4.0 in /usr/local/lib/python3.10/dist-packages (from dataclasses-json<0.7,>=0.5.7->langchain) (0.9.0)\n",
            "Requirement already satisfied: jsonpointer>=1.9 in /usr/local/lib/python3.10/dist-packages (from jsonpatch<2.0,>=1.33->langchain) (2.4)\n",
            "Requirement already satisfied: typing-extensions>=4.2.0 in /usr/local/lib/python3.10/dist-packages (from pydantic<3,>=1->langchain) (4.8.0)\n",
            "Requirement already satisfied: urllib3<3,>=1.21.1 in /usr/local/lib/python3.10/dist-packages (from requests<3,>=2->langchain) (1.26.18)\n",
            "Requirement already satisfied: certifi>=2017.4.17 in /usr/local/lib/python3.10/dist-packages (from requests<3,>=2->langchain) (2023.7.22)\n",
            "Requirement already satisfied: greenlet!=0.4.17 in /usr/local/lib/python3.10/dist-packages (from SQLAlchemy<3,>=1.4->langchain) (3.0.1)\n",
            "Requirement already satisfied: packaging>=17.0 in /usr/local/lib/python3.10/dist-packages (from marshmallow<4.0.0,>=3.18.0->dataclasses-json<0.7,>=0.5.7->langchain) (23.2)\n",
            "Requirement already satisfied: mypy-extensions>=0.3.0 in /usr/local/lib/python3.10/dist-packages (from typing-inspect<1,>=0.4.0->dataclasses-json<0.7,>=0.5.7->langchain) (1.0.0)\n",
            "Requirement already satisfied: langchainhub in /usr/local/lib/python3.10/dist-packages (0.1.14)\n",
            "Requirement already satisfied: requests<3,>=2 in /usr/local/lib/python3.10/dist-packages (from langchainhub) (2.31.0)\n",
            "Requirement already satisfied: types-requests<3.0.0.0,>=2.31.0.2 in /usr/local/lib/python3.10/dist-packages (from langchainhub) (2.31.0.10)\n",
            "Requirement already satisfied: charset-normalizer<4,>=2 in /usr/local/lib/python3.10/dist-packages (from requests<3,>=2->langchainhub) (3.3.2)\n",
            "Requirement already satisfied: idna<4,>=2.5 in /usr/local/lib/python3.10/dist-packages (from requests<3,>=2->langchainhub) (3.4)\n",
            "Requirement already satisfied: urllib3<3,>=1.21.1 in /usr/local/lib/python3.10/dist-packages (from requests<3,>=2->langchainhub) (1.26.18)\n",
            "Requirement already satisfied: certifi>=2017.4.17 in /usr/local/lib/python3.10/dist-packages (from requests<3,>=2->langchainhub) (2023.7.22)\n",
            "Collecting urllib3<3,>=1.21.1 (from requests<3,>=2->langchainhub)\n",
            "  Downloading urllib3-2.1.0-py3-none-any.whl (104 kB)\n",
            "\u001b[2K     \u001b[90m━━━━━━━━━━━━━━━━━━━━━━━━━━━━━━━━━━━━━━━━\u001b[0m \u001b[32m104.6/104.6 kB\u001b[0m \u001b[31m1.6 MB/s\u001b[0m eta \u001b[36m0:00:00\u001b[0m\n",
            "\u001b[?25hInstalling collected packages: urllib3\n",
            "  Attempting uninstall: urllib3\n",
            "    Found existing installation: urllib3 1.26.18\n",
            "    Uninstalling urllib3-1.26.18:\n",
            "      Successfully uninstalled urllib3-1.26.18\n",
            "\u001b[31mERROR: pip's dependency resolver does not currently take into account all the packages that are installed. This behaviour is the source of the following dependency conflicts.\n",
            "kubernetes 28.1.0 requires urllib3<2.0,>=1.24.2, but you have urllib3 2.1.0 which is incompatible.\u001b[0m\u001b[31m\n",
            "\u001b[0mSuccessfully installed urllib3-2.1.0\n",
            "Requirement already satisfied: google-generativeai in /usr/local/lib/python3.10/dist-packages (0.2.2)\n",
            "Requirement already satisfied: google-ai-generativelanguage==0.3.3 in /usr/local/lib/python3.10/dist-packages (from google-generativeai) (0.3.3)\n",
            "Requirement already satisfied: google-auth in /usr/local/lib/python3.10/dist-packages (from google-generativeai) (2.17.3)\n",
            "Requirement already satisfied: google-api-core in /usr/local/lib/python3.10/dist-packages (from google-generativeai) (2.11.1)\n",
            "Requirement already satisfied: protobuf in /usr/local/lib/python3.10/dist-packages (from google-generativeai) (3.20.3)\n",
            "Requirement already satisfied: tqdm in /usr/local/lib/python3.10/dist-packages (from google-generativeai) (4.66.1)\n",
            "Requirement already satisfied: proto-plus<2.0.0dev,>=1.22.0 in /usr/local/lib/python3.10/dist-packages (from google-ai-generativelanguage==0.3.3->google-generativeai) (1.22.3)\n",
            "Requirement already satisfied: googleapis-common-protos<2.0.dev0,>=1.56.2 in /usr/local/lib/python3.10/dist-packages (from google-api-core->google-generativeai) (1.61.0)\n",
            "Requirement already satisfied: requests<3.0.0.dev0,>=2.18.0 in /usr/local/lib/python3.10/dist-packages (from google-api-core->google-generativeai) (2.31.0)\n",
            "Requirement already satisfied: cachetools<6.0,>=2.0.0 in /usr/local/lib/python3.10/dist-packages (from google-auth->google-generativeai) (5.3.2)\n",
            "Requirement already satisfied: pyasn1-modules>=0.2.1 in /usr/local/lib/python3.10/dist-packages (from google-auth->google-generativeai) (0.3.0)\n",
            "Requirement already satisfied: six>=1.9.0 in /usr/local/lib/python3.10/dist-packages (from google-auth->google-generativeai) (1.16.0)\n",
            "Requirement already satisfied: rsa<5,>=3.1.4 in /usr/local/lib/python3.10/dist-packages (from google-auth->google-generativeai) (4.9)\n",
            "Requirement already satisfied: grpcio<2.0dev,>=1.33.2 in /usr/local/lib/python3.10/dist-packages (from google-api-core->google-generativeai) (1.59.2)\n",
            "Requirement already satisfied: grpcio-status<2.0.dev0,>=1.33.2 in /usr/local/lib/python3.10/dist-packages (from google-api-core->google-generativeai) (1.48.2)\n",
            "Requirement already satisfied: pyasn1<0.6.0,>=0.4.6 in /usr/local/lib/python3.10/dist-packages (from pyasn1-modules>=0.2.1->google-auth->google-generativeai) (0.5.0)\n",
            "Requirement already satisfied: charset-normalizer<4,>=2 in /usr/local/lib/python3.10/dist-packages (from requests<3.0.0.dev0,>=2.18.0->google-api-core->google-generativeai) (3.3.2)\n",
            "Requirement already satisfied: idna<4,>=2.5 in /usr/local/lib/python3.10/dist-packages (from requests<3.0.0.dev0,>=2.18.0->google-api-core->google-generativeai) (3.4)\n",
            "Requirement already satisfied: urllib3<3,>=1.21.1 in /usr/local/lib/python3.10/dist-packages (from requests<3.0.0.dev0,>=2.18.0->google-api-core->google-generativeai) (2.1.0)\n",
            "Requirement already satisfied: certifi>=2017.4.17 in /usr/local/lib/python3.10/dist-packages (from requests<3.0.0.dev0,>=2.18.0->google-api-core->google-generativeai) (2023.7.22)\n",
            "Requirement already satisfied: tiktoken in /usr/local/lib/python3.10/dist-packages (0.5.1)\n",
            "Requirement already satisfied: regex>=2022.1.18 in /usr/local/lib/python3.10/dist-packages (from tiktoken) (2023.6.3)\n",
            "Requirement already satisfied: requests>=2.26.0 in /usr/local/lib/python3.10/dist-packages (from tiktoken) (2.31.0)\n",
            "Requirement already satisfied: charset-normalizer<4,>=2 in /usr/local/lib/python3.10/dist-packages (from requests>=2.26.0->tiktoken) (3.3.2)\n",
            "Requirement already satisfied: idna<4,>=2.5 in /usr/local/lib/python3.10/dist-packages (from requests>=2.26.0->tiktoken) (3.4)\n",
            "Requirement already satisfied: urllib3<3,>=1.21.1 in /usr/local/lib/python3.10/dist-packages (from requests>=2.26.0->tiktoken) (2.1.0)\n",
            "Requirement already satisfied: certifi>=2017.4.17 in /usr/local/lib/python3.10/dist-packages (from requests>=2.26.0->tiktoken) (2023.7.22)\n",
            "Requirement already satisfied: chromadb in /usr/local/lib/python3.10/dist-packages (0.4.18)\n",
            "Requirement already satisfied: requests>=2.28 in /usr/local/lib/python3.10/dist-packages (from chromadb) (2.31.0)\n",
            "Requirement already satisfied: pydantic>=1.9 in /usr/local/lib/python3.10/dist-packages (from chromadb) (1.10.13)\n",
            "Requirement already satisfied: chroma-hnswlib==0.7.3 in /usr/local/lib/python3.10/dist-packages (from chromadb) (0.7.3)\n",
            "Requirement already satisfied: fastapi>=0.95.2 in /usr/local/lib/python3.10/dist-packages (from chromadb) (0.104.1)\n",
            "Requirement already satisfied: uvicorn[standard]>=0.18.3 in /usr/local/lib/python3.10/dist-packages (from chromadb) (0.24.0.post1)\n",
            "Requirement already satisfied: posthog>=2.4.0 in /usr/local/lib/python3.10/dist-packages (from chromadb) (3.0.2)\n",
            "Requirement already satisfied: typing-extensions>=4.5.0 in /usr/local/lib/python3.10/dist-packages (from chromadb) (4.8.0)\n",
            "Requirement already satisfied: pulsar-client>=3.1.0 in /usr/local/lib/python3.10/dist-packages (from chromadb) (3.3.0)\n",
            "Requirement already satisfied: onnxruntime>=1.14.1 in /usr/local/lib/python3.10/dist-packages (from chromadb) (1.16.3)\n",
            "Requirement already satisfied: opentelemetry-api>=1.2.0 in /usr/local/lib/python3.10/dist-packages (from chromadb) (1.21.0)\n",
            "Requirement already satisfied: opentelemetry-exporter-otlp-proto-grpc>=1.2.0 in /usr/local/lib/python3.10/dist-packages (from chromadb) (1.21.0)\n",
            "Requirement already satisfied: opentelemetry-instrumentation-fastapi>=0.41b0 in /usr/local/lib/python3.10/dist-packages (from chromadb) (0.42b0)\n",
            "Requirement already satisfied: opentelemetry-sdk>=1.2.0 in /usr/local/lib/python3.10/dist-packages (from chromadb) (1.21.0)\n",
            "Requirement already satisfied: tokenizers>=0.13.2 in /usr/local/lib/python3.10/dist-packages (from chromadb) (0.15.0)\n",
            "Requirement already satisfied: pypika>=0.48.9 in /usr/local/lib/python3.10/dist-packages (from chromadb) (0.48.9)\n",
            "Requirement already satisfied: tqdm>=4.65.0 in /usr/local/lib/python3.10/dist-packages (from chromadb) (4.66.1)\n",
            "Requirement already satisfied: overrides>=7.3.1 in /usr/local/lib/python3.10/dist-packages (from chromadb) (7.4.0)\n",
            "Requirement already satisfied: importlib-resources in /usr/local/lib/python3.10/dist-packages (from chromadb) (6.1.1)\n",
            "Requirement already satisfied: grpcio>=1.58.0 in /usr/local/lib/python3.10/dist-packages (from chromadb) (1.59.2)\n",
            "Requirement already satisfied: bcrypt>=4.0.1 in /usr/local/lib/python3.10/dist-packages (from chromadb) (4.1.1)\n",
            "Requirement already satisfied: typer>=0.9.0 in /usr/local/lib/python3.10/dist-packages (from chromadb) (0.9.0)\n",
            "Requirement already satisfied: kubernetes>=28.1.0 in /usr/local/lib/python3.10/dist-packages (from chromadb) (28.1.0)\n",
            "Requirement already satisfied: tenacity>=8.2.3 in /usr/local/lib/python3.10/dist-packages (from chromadb) (8.2.3)\n",
            "Requirement already satisfied: PyYAML>=6.0.0 in /usr/local/lib/python3.10/dist-packages (from chromadb) (6.0.1)\n",
            "Requirement already satisfied: mmh3>=4.0.1 in /usr/local/lib/python3.10/dist-packages (from chromadb) (4.0.1)\n",
            "Requirement already satisfied: numpy>=1.22.5 in /usr/local/lib/python3.10/dist-packages (from chromadb) (1.23.5)\n",
            "Requirement already satisfied: anyio<4.0.0,>=3.7.1 in /usr/local/lib/python3.10/dist-packages (from fastapi>=0.95.2->chromadb) (3.7.1)\n",
            "Requirement already satisfied: starlette<0.28.0,>=0.27.0 in /usr/local/lib/python3.10/dist-packages (from fastapi>=0.95.2->chromadb) (0.27.0)\n",
            "Requirement already satisfied: certifi>=14.05.14 in /usr/local/lib/python3.10/dist-packages (from kubernetes>=28.1.0->chromadb) (2023.7.22)\n",
            "Requirement already satisfied: six>=1.9.0 in /usr/local/lib/python3.10/dist-packages (from kubernetes>=28.1.0->chromadb) (1.16.0)\n",
            "Requirement already satisfied: python-dateutil>=2.5.3 in /usr/local/lib/python3.10/dist-packages (from kubernetes>=28.1.0->chromadb) (2.8.2)\n",
            "Requirement already satisfied: google-auth>=1.0.1 in /usr/local/lib/python3.10/dist-packages (from kubernetes>=28.1.0->chromadb) (2.17.3)\n",
            "Requirement already satisfied: websocket-client!=0.40.0,!=0.41.*,!=0.42.*,>=0.32.0 in /usr/local/lib/python3.10/dist-packages (from kubernetes>=28.1.0->chromadb) (1.6.4)\n",
            "Requirement already satisfied: requests-oauthlib in /usr/local/lib/python3.10/dist-packages (from kubernetes>=28.1.0->chromadb) (1.3.1)\n",
            "Requirement already satisfied: oauthlib>=3.2.2 in /usr/local/lib/python3.10/dist-packages (from kubernetes>=28.1.0->chromadb) (3.2.2)\n",
            "Collecting urllib3<2.0,>=1.24.2 (from kubernetes>=28.1.0->chromadb)\n",
            "  Using cached urllib3-1.26.18-py2.py3-none-any.whl (143 kB)\n",
            "Requirement already satisfied: coloredlogs in /usr/local/lib/python3.10/dist-packages (from onnxruntime>=1.14.1->chromadb) (15.0.1)\n",
            "Requirement already satisfied: flatbuffers in /usr/local/lib/python3.10/dist-packages (from onnxruntime>=1.14.1->chromadb) (23.5.26)\n",
            "Requirement already satisfied: packaging in /usr/local/lib/python3.10/dist-packages (from onnxruntime>=1.14.1->chromadb) (23.2)\n",
            "Requirement already satisfied: protobuf in /usr/local/lib/python3.10/dist-packages (from onnxruntime>=1.14.1->chromadb) (3.20.3)\n",
            "Requirement already satisfied: sympy in /usr/local/lib/python3.10/dist-packages (from onnxruntime>=1.14.1->chromadb) (1.12)\n",
            "Requirement already satisfied: deprecated>=1.2.6 in /usr/local/lib/python3.10/dist-packages (from opentelemetry-api>=1.2.0->chromadb) (1.2.14)\n",
            "Requirement already satisfied: importlib-metadata<7.0,>=6.0 in /usr/local/lib/python3.10/dist-packages (from opentelemetry-api>=1.2.0->chromadb) (6.8.0)\n",
            "Requirement already satisfied: backoff<3.0.0,>=1.10.0 in /usr/local/lib/python3.10/dist-packages (from opentelemetry-exporter-otlp-proto-grpc>=1.2.0->chromadb) (2.2.1)\n",
            "Requirement already satisfied: googleapis-common-protos~=1.52 in /usr/local/lib/python3.10/dist-packages (from opentelemetry-exporter-otlp-proto-grpc>=1.2.0->chromadb) (1.61.0)\n",
            "Requirement already satisfied: opentelemetry-exporter-otlp-proto-common==1.21.0 in /usr/local/lib/python3.10/dist-packages (from opentelemetry-exporter-otlp-proto-grpc>=1.2.0->chromadb) (1.21.0)\n",
            "Requirement already satisfied: opentelemetry-proto==1.21.0 in /usr/local/lib/python3.10/dist-packages (from opentelemetry-exporter-otlp-proto-grpc>=1.2.0->chromadb) (1.21.0)\n",
            "Requirement already satisfied: opentelemetry-instrumentation-asgi==0.42b0 in /usr/local/lib/python3.10/dist-packages (from opentelemetry-instrumentation-fastapi>=0.41b0->chromadb) (0.42b0)\n",
            "Requirement already satisfied: opentelemetry-instrumentation==0.42b0 in /usr/local/lib/python3.10/dist-packages (from opentelemetry-instrumentation-fastapi>=0.41b0->chromadb) (0.42b0)\n",
            "Requirement already satisfied: opentelemetry-semantic-conventions==0.42b0 in /usr/local/lib/python3.10/dist-packages (from opentelemetry-instrumentation-fastapi>=0.41b0->chromadb) (0.42b0)\n",
            "Requirement already satisfied: opentelemetry-util-http==0.42b0 in /usr/local/lib/python3.10/dist-packages (from opentelemetry-instrumentation-fastapi>=0.41b0->chromadb) (0.42b0)\n",
            "Requirement already satisfied: setuptools>=16.0 in /usr/local/lib/python3.10/dist-packages (from opentelemetry-instrumentation==0.42b0->opentelemetry-instrumentation-fastapi>=0.41b0->chromadb) (67.7.2)\n",
            "Requirement already satisfied: wrapt<2.0.0,>=1.0.0 in /usr/local/lib/python3.10/dist-packages (from opentelemetry-instrumentation==0.42b0->opentelemetry-instrumentation-fastapi>=0.41b0->chromadb) (1.14.1)\n",
            "Requirement already satisfied: asgiref~=3.0 in /usr/local/lib/python3.10/dist-packages (from opentelemetry-instrumentation-asgi==0.42b0->opentelemetry-instrumentation-fastapi>=0.41b0->chromadb) (3.7.2)\n",
            "Requirement already satisfied: monotonic>=1.5 in /usr/local/lib/python3.10/dist-packages (from posthog>=2.4.0->chromadb) (1.6)\n",
            "Requirement already satisfied: charset-normalizer<4,>=2 in /usr/local/lib/python3.10/dist-packages (from requests>=2.28->chromadb) (3.3.2)\n",
            "Requirement already satisfied: idna<4,>=2.5 in /usr/local/lib/python3.10/dist-packages (from requests>=2.28->chromadb) (3.4)\n",
            "Requirement already satisfied: huggingface_hub<1.0,>=0.16.4 in /usr/local/lib/python3.10/dist-packages (from tokenizers>=0.13.2->chromadb) (0.19.4)\n",
            "Requirement already satisfied: click<9.0.0,>=7.1.1 in /usr/local/lib/python3.10/dist-packages (from typer>=0.9.0->chromadb) (8.1.7)\n",
            "Requirement already satisfied: h11>=0.8 in /usr/local/lib/python3.10/dist-packages (from uvicorn[standard]>=0.18.3->chromadb) (0.14.0)\n",
            "Requirement already satisfied: httptools>=0.5.0 in /usr/local/lib/python3.10/dist-packages (from uvicorn[standard]>=0.18.3->chromadb) (0.6.1)\n",
            "Requirement already satisfied: python-dotenv>=0.13 in /usr/local/lib/python3.10/dist-packages (from uvicorn[standard]>=0.18.3->chromadb) (1.0.0)\n",
            "Requirement already satisfied: uvloop!=0.15.0,!=0.15.1,>=0.14.0 in /usr/local/lib/python3.10/dist-packages (from uvicorn[standard]>=0.18.3->chromadb) (0.19.0)\n",
            "Requirement already satisfied: watchfiles>=0.13 in /usr/local/lib/python3.10/dist-packages (from uvicorn[standard]>=0.18.3->chromadb) (0.21.0)\n",
            "Requirement already satisfied: websockets>=10.4 in /usr/local/lib/python3.10/dist-packages (from uvicorn[standard]>=0.18.3->chromadb) (12.0)\n",
            "Requirement already satisfied: sniffio>=1.1 in /usr/local/lib/python3.10/dist-packages (from anyio<4.0.0,>=3.7.1->fastapi>=0.95.2->chromadb) (1.3.0)\n",
            "Requirement already satisfied: exceptiongroup in /usr/local/lib/python3.10/dist-packages (from anyio<4.0.0,>=3.7.1->fastapi>=0.95.2->chromadb) (1.1.3)\n",
            "Requirement already satisfied: cachetools<6.0,>=2.0.0 in /usr/local/lib/python3.10/dist-packages (from google-auth>=1.0.1->kubernetes>=28.1.0->chromadb) (5.3.2)\n",
            "Requirement already satisfied: pyasn1-modules>=0.2.1 in /usr/local/lib/python3.10/dist-packages (from google-auth>=1.0.1->kubernetes>=28.1.0->chromadb) (0.3.0)\n",
            "Requirement already satisfied: rsa<5,>=3.1.4 in /usr/local/lib/python3.10/dist-packages (from google-auth>=1.0.1->kubernetes>=28.1.0->chromadb) (4.9)\n",
            "Requirement already satisfied: filelock in /usr/local/lib/python3.10/dist-packages (from huggingface_hub<1.0,>=0.16.4->tokenizers>=0.13.2->chromadb) (3.13.1)\n",
            "Requirement already satisfied: fsspec>=2023.5.0 in /usr/local/lib/python3.10/dist-packages (from huggingface_hub<1.0,>=0.16.4->tokenizers>=0.13.2->chromadb) (2023.6.0)\n",
            "Requirement already satisfied: zipp>=0.5 in /usr/local/lib/python3.10/dist-packages (from importlib-metadata<7.0,>=6.0->opentelemetry-api>=1.2.0->chromadb) (3.17.0)\n",
            "Requirement already satisfied: humanfriendly>=9.1 in /usr/local/lib/python3.10/dist-packages (from coloredlogs->onnxruntime>=1.14.1->chromadb) (10.0)\n",
            "Requirement already satisfied: mpmath>=0.19 in /usr/local/lib/python3.10/dist-packages (from sympy->onnxruntime>=1.14.1->chromadb) (1.3.0)\n",
            "Requirement already satisfied: pyasn1<0.6.0,>=0.4.6 in /usr/local/lib/python3.10/dist-packages (from pyasn1-modules>=0.2.1->google-auth>=1.0.1->kubernetes>=28.1.0->chromadb) (0.5.0)\n",
            "Installing collected packages: urllib3\n",
            "  Attempting uninstall: urllib3\n",
            "    Found existing installation: urllib3 2.1.0\n",
            "    Uninstalling urllib3-2.1.0:\n",
            "      Successfully uninstalled urllib3-2.1.0\n",
            "\u001b[31mERROR: pip's dependency resolver does not currently take into account all the packages that are installed. This behaviour is the source of the following dependency conflicts.\n",
            "types-requests 2.31.0.10 requires urllib3>=2, but you have urllib3 1.26.18 which is incompatible.\u001b[0m\u001b[31m\n",
            "\u001b[0mSuccessfully installed urllib3-1.26.18\n"
          ]
        },
        {
          "output_type": "display_data",
          "data": {
            "application/vnd.colab-display-data+json": {
              "pip_warning": {
                "packages": [
                  "urllib3"
                ]
              }
            }
          },
          "metadata": {}
        }
      ],
      "source": [
        "!pip install langchain\n",
        "!pip install langchainhub\n",
        "!pip install google-generativeai\n",
        "!pip install tiktoken\n",
        "!pip install chromadb"
      ]
    },
    {
      "cell_type": "markdown",
      "source": [
        "#### Before submitting, you must delete the GOOGLE_API_KEY"
      ],
      "metadata": {
        "id": "6NtV7f2NBoPw"
      }
    },
    {
      "cell_type": "code",
      "source": [
        "import bs4\n",
        "from operator import itemgetter\n",
        "\n",
        "from langchain import hub\n",
        "from langchain.document_loaders import WebBaseLoader\n",
        "from langchain.embeddings import GooglePalmEmbeddings\n",
        "from langchain.text_splitter import RecursiveCharacterTextSplitter\n",
        "from langchain.vectorstores import Chroma\n",
        "from langchain.schema import StrOutputParser\n",
        "from langchain.schema.runnable import RunnablePassthrough\n",
        "from langchain.chat_models import ChatGooglePalm\n",
        "from langchain.schema.runnable.history import RunnableWithMessageHistory\n",
        "from langchain.prompts import ChatPromptTemplate"
      ],
      "metadata": {
        "id": "H92f2QEwJKjh"
      },
      "execution_count": 117,
      "outputs": []
    },
    {
      "cell_type": "markdown",
      "source": [
        "# 1."
      ],
      "metadata": {
        "id": "5Hq-vGArCMqb"
      }
    },
    {
      "cell_type": "code",
      "source": [
        "# Load the document\n",
        "loader = WebBaseLoader(web_paths=(\"https://lilianweng.github.io/posts/2023-06-23-agent/\",), bs_kwargs=dict(parse_only=bs4.SoupStrainer(class_=(\"post-content\", \"post-title\", \"post-header\"))),)\n",
        "raw_documents = loader.load()\n",
        "\n",
        "# ============== EDIT HERE ==================\n",
        "# Split the document into chunks\n",
        "text_splitter = RecursiveCharacterTextSplitter(\n",
        "  chunk_size=800, # Maximum size of chunks to return\n",
        "  chunk_overlap=100 # Overlap in characters between chunks\n",
        ")\n",
        "splits = text_splitter.split_documents(raw_documents)\n",
        "\n",
        "# Embed each chunks and load it into vector store\n",
        "vectorstore = Chroma.from_documents(\n",
        "  documents=splits,\n",
        "  embedding=GooglePalmEmbeddings(google_api_key=GOOGLE_API_KEY)\n",
        ")\n",
        "\n",
        "# Retrieve\n",
        "retriever = vectorstore.as_retriever(\n",
        "  search_type=\"similarity\",\n",
        "  search_kwargs={\"k\": 6}\n",
        ")\n",
        "\n",
        "# Generate\n",
        "llm = ChatGooglePalm(google_api_key=GOOGLE_API_KEY)\n",
        "# ===========================================\n",
        "\n",
        "def format_docs(docs):\n",
        "    return \"\\n\\n\".join(doc.page_content for doc in docs)\n",
        "\n",
        "query = \"What is Task Decomposition?\""
      ],
      "metadata": {
        "id": "iZyR7jPMQ3PE"
      },
      "execution_count": 118,
      "outputs": []
    },
    {
      "cell_type": "code",
      "source": [
        "# a.\tLangchian hub - rlm/rag-prompt\n",
        "# ============== EDIT HERE ==================\n",
        "prompt = hub.pull(\"rlm/rag-prompt\")\n",
        "# ===========================================\n",
        "print(\"## Prompt template ##\")\n",
        "print(\"Input variables: \", prompt.input_variables)\n",
        "print(\"Template: \", prompt.messages[0].prompt.template)\n",
        "print()\n",
        "\n",
        "# ============== EDIT HERE ==================\n",
        "rag_chain = (\n",
        "  {\"context\": retriever | format_docs,\"question\": RunnablePassthrough()}\n",
        "  | prompt\n",
        "  | llm\n",
        "  | StrOutputParser()\n",
        ")\n",
        "# ===========================================\n",
        "\n",
        "print(\"## Generated string ##\")\n",
        "for chunk in rag_chain.stream(query):\n",
        "    print(chunk, end=\"\", flush=True)"
      ],
      "metadata": {
        "id": "i_ajNl8AQ-u-",
        "colab": {
          "base_uri": "https://localhost:8080/"
        },
        "outputId": "da8e5f66-04ac-4fa0-be72-894f280fa897"
      },
      "execution_count": 119,
      "outputs": [
        {
          "output_type": "stream",
          "name": "stdout",
          "text": [
            "## Prompt template ##\n",
            "Input variables:  ['context', 'question']\n",
            "Template:  You are an assistant for question-answering tasks. Use the following pieces of retrieved context to answer the question. If you don't know the answer, just say that you don't know. Use three sentences maximum and keep the answer concise.\n",
            "Question: {question} \n",
            "Context: {context} \n",
            "Answer:\n",
            "\n",
            "## Generated string ##\n",
            "Task decomposition is the process of breaking down a complex task into smaller, more manageable tasks. This can be done manually or automatically. Manual task decomposition involves breaking down the task into smaller steps and then assigning each step to a different person or team. Automatic task decomposition involves using a computer program to break down the task into smaller steps.\n",
            "\n",
            "There are several benefits to task decomposition. First, it can help to improve efficiency by making it easier to manage and track progress. Second, it can help to improve quality by ensuring that each step is completed correctly. Third, it can help to improve communication by making it easier to share information and coordinate efforts.\n",
            "\n",
            "There are several challenges associated with task decomposition. First, it can be difficult to determine the appropriate level of detail. If the tasks are too small, it can be difficult to manage and track progress. If the tasks are too large, it can be difficult to ensure that each step is completed correctly. Second, it can be difficult to assign tasks to the right people or teams. Third, it can be difficult to coordinate efforts across different people or teams.\n",
            "\n",
            "Despite the challenges, task decomposition can be a valuable tool for improving the efficiency, quality, and communication of complex tasks.\n",
            "\n",
            "In the context of the given passage, task decomposition is used to break down the complex task of planning into smaller, more manageable tasks. This is done by first identifying the different components of the planning process, such as goal setting, problem solving, and decision making. Each component is then broken down into smaller steps, which are then assigned to different people or teams. This approach helps to ensure that the planning process is efficient, effective, and well-coordinated."
          ]
        }
      ]
    },
    {
      "cell_type": "code",
      "source": [
        "# b.\tLangchain hub – gregkamradt/test-question-making\n",
        "# ============== EDIT HERE ==================\n",
        "prompt = hub.pull(\"gregkamradt/test-question-making\")\n",
        "# ===========================================\n",
        "print(\"## Prompt template ##\")\n",
        "print(\"Input variables: \", prompt.input_variables)\n",
        "print(\"Template: \", prompt.template)\n",
        "print()\n",
        "\n",
        "# ============== EDIT HERE ==================\n",
        "rag_chain = (\n",
        "  {\"context\": retriever | format_docs,\"question\": RunnablePassthrough()}\n",
        "  | prompt\n",
        "  | llm\n",
        "  | StrOutputParser()\n",
        ")\n",
        "# ===========================================\n",
        "\n",
        "print(\"## Generated string ##\")\n",
        "for chunk in rag_chain.stream(query):\n",
        "    print(chunk, end=\"\", flush=True)"
      ],
      "metadata": {
        "id": "egWelJXWROPj",
        "colab": {
          "base_uri": "https://localhost:8080/"
        },
        "outputId": "b6439cf4-0d04-4d24-effc-888fda52cd98"
      },
      "execution_count": 120,
      "outputs": [
        {
          "output_type": "stream",
          "name": "stdout",
          "text": [
            "## Prompt template ##\n",
            "Input variables:  ['context', 'question']\n",
            "Template:  Your goal is to create a well crafted set of answers for a test for a specific question.\n",
            "Your answers will be used on a test to access a students knowledge. You will be given the question and your goal is to follow the output format below w/ guidelines\n",
            "\n",
            "Answer Choice Guidelines\n",
            "Position the correct option so that it appears approximately the same number of times in each possible position for a quiz. \n",
            "Answer choices should be written clearly and similarly to each other in content, length, and grammar; avoid giving clues through the use of faulty grammatical construction. \n",
            "Make all distractors plausible; they should be common misconceptions that learners may have.\n",
            "In answer choices, avoid “all of the above” and “none of the above,\" which can lead to artificially higher levels of performance.\n",
            "In answer choices, avoid references to answer choices by letter (ie: “Both A and B”), as our answers are randomized\n",
            "When numeric options are used, the options should be listed in numeric order and in a single format (i.e., as terms or ranges).\n",
            "Rationale Guidelines\n",
            "All rationales should begin with “Correct.” or “Incorrect.”\n",
            "All answer options (including correct answer(s) and distractor(s)) must have their own rationale.\n",
            "Rationales should be unique for each answer option when appropriate. Rationales for distractors should ideally point out a learner’s error in understanding and provide context to help them go back and figure out where they went wrong.\n",
            "Rationales should not refer to the answer by letter (ie, “option A is incorrect because…”) because answer options will be randomized in our system. \n",
            "Rationales for Distractors should not give away the correct answer to the question.\n",
            "Formative Quiz questions (which occur after each module), should include a sentence at the end of each rationale that points the learner back to the relevant video to review the information. e.g., “See “Why Data Governance.”\n",
            "Summative Quiz questions (which occur at the end of the course), should include a sentence at the end of each rationale that points the learner back to the relevant module to review the information. E.g., “See Module 1: What is Data Governance?”. They should also include the module’s learning objective at the end of each rationale.\n",
            "\n",
            "\n",
            "Example of a Quiz Question Submission\n",
            "Below are examples for each component of a multiple-choice question item.\n",
            "\n",
            "Stem Example:\n",
            "A company is storing an access key (access key ID and secret access key) in a text file on a custom AMI. The company uses the access key to access DynamoDB tables from instances created from the AMI. The security team has mandated a more secure solution. Which solution will meet the security team’s mandate?\n",
            "\n",
            "Answer Choices (Distractors A-C and Correct Answer D) Example:\n",
            "A. Put the access key in an S3 bucket, and retrieve the access key on boot from the instance.\n",
            "B. Pass the access key to the instances through instance user data.\n",
            "C. Obtain the access key from a key server launched in a private subnet.\n",
            "D. Create an IAM role with permissions to access the table, and launch all instances with the new role. (correct)\n",
            "\n",
            "\n",
            "Rationale Example:\n",
            "[Formative] Incorrect. Data governance is not something specific to big data technologies.  See “Why Data Governance.”\n",
            "\n",
            "[Summative] Incorrect. It is not relevant to clarify the size of the big data team. Learning Objective: Apply Hadoop and use new tools to manage and control without compromising the platform’s basic value. Review Module 1: “What is Data Governance?”\n",
            "\n",
            "{context}\n",
            "Question: {question}\n",
            "YOUR ANSWER:\n",
            "\n",
            "## Generated string ##\n",
            "Task decomposition is the process of breaking down a complex task into smaller, more manageable tasks. This can be done by identifying the different steps involved in the task, and then grouping those steps together into smaller units. Task decomposition can be helpful for a number of reasons. First, it can make a complex task seem less daunting. When a task is broken down into smaller steps, it can be easier to see how to start and how to progress. Second, task decomposition can help to ensure that all of the necessary steps are taken. When a task is broken down into smaller steps, it is easier to make sure that nothing is forgotten. Third, task decomposition can help to improve efficiency. When a task is broken down into smaller steps, it can be easier to find the most efficient way to complete each step.\n",
            "\n",
            "There are a number of different ways to decompose a task. One common approach is to use a hierarchical decomposition. In this approach, the task is broken down into a number of subtasks, which are then broken down into even smaller subtasks. This process can be repeated until the task is broken down into individual steps. Another common approach is to use a linear decomposition. In this approach, the task is broken down into a number of steps, which are then executed in order. This approach is often used for tasks that have a clear start and finish.\n",
            "\n",
            "Task decomposition can be a helpful tool for a variety of tasks. It can be used to break down complex tasks into smaller, more manageable tasks. It can also be used to ensure that all of the necessary steps are taken. Finally, it can be used to improve efficiency.\n",
            "\n",
            "Here are some examples of task decomposition:\n",
            "\n",
            "* Writing a paper: The task of writing a paper can be decomposed into the following steps:\n",
            "    * Brainstorming ideas\n",
            "    * Doing research\n",
            "    * Organizing the research\n",
            "    * Writing the introduction\n",
            "    * Writing the body paragraphs\n",
            "    * Writing the conclusion\n",
            "    * Editing and proofreading\n",
            "\n",
            "* Planning a trip: The task of planning a trip can be decomposed into the following steps:\n",
            "    * Deciding on a destination\n",
            "    * Booking flights and accommodation\n",
            "    * Planning activities\n",
            "    * Creating a budget\n",
            "    * Packing\n",
            "\n",
            "* Cooking a meal: The task of cooking a meal can be decomposed into the following steps:\n",
            "    * Gathering the ingredients\n",
            "    * Preparing the ingredients\n",
            "    * Cooking the meal\n",
            "    * Cleaning up\n",
            "\n",
            "* Building a house: The task of building a house can be decomposed into the following steps:\n",
            "    * Designing the house\n",
            "    * Obtaining the necessary permits\n",
            "    * Hiring a contractor\n",
            "    * Building the foundation\n",
            "    * Framing the house\n",
            "    * Installing the roof\n",
            "    * Finishing the interior\n",
            "    * Landscaping"
          ]
        }
      ]
    },
    {
      "cell_type": "code",
      "source": [
        "# c.\tCreate new prompt to help your QA service\n",
        "# ============== EDIT HERE ==================\n",
        "from langchain.prompts import HumanMessagePromptTemplate, SystemMessagePromptTemplate, MessagesPlaceholder\n",
        "\n",
        "prompt = ChatPromptTemplate.from_template(\"\"\"\n",
        "  You are an assistant for question-answering tasks. Use the following pieces of retrieved context to answer the question.\n",
        "  If you don't know the answer, just say that you don't know. Use three sentences maximum and keep the answer concise.\n",
        "  Question: {question}\n",
        "  Context: {context}\n",
        "  Answer:\n",
        "\"\"\"\n",
        ")\n",
        "\n",
        "# ===========================================\n",
        "#print(\"## Prompt template ##\")\n",
        "#print(\"Input variables: \", prompt.input_variables)\n",
        "#print(\"Template: \", prompt.template)\n",
        "#print()\n",
        "\n",
        "# ============== EDIT HERE ==================\n",
        "rag_chain = (\n",
        "  {\"context\": retriever | format_docs,\"question\": RunnablePassthrough()}\n",
        "  | prompt\n",
        "  | llm\n",
        "  | StrOutputParser()\n",
        ")\n",
        "# ===========================================\n",
        "\n",
        "print(\"## Generated string ##\")\n",
        "for chunk in rag_chain.stream(query):\n",
        "    print(chunk, end=\"\", flush=True)"
      ],
      "metadata": {
        "id": "EgIwG_OSRV4a",
        "colab": {
          "base_uri": "https://localhost:8080/"
        },
        "outputId": "096e780a-a929-4b7a-b7c7-c17ce6290980"
      },
      "execution_count": 121,
      "outputs": [
        {
          "output_type": "stream",
          "name": "stdout",
          "text": [
            "## Generated string ##\n",
            "Task decomposition is the process of breaking down a complex task into smaller, more manageable tasks. This can be done by identifying the subtasks that need to be completed, and then ordering them in a logical way. Task decomposition can be helpful for planning and executing complex tasks, and it can also be used to improve communication and collaboration.\n",
            "\n",
            "In the context of LLMs, task decomposition can be used to improve the performance of LLMs on complex tasks. By breaking down a complex task into smaller, more manageable tasks, LLMs can be trained to perform each task more effectively. This can lead to improved performance on the overall task.\n",
            "\n",
            "There are a number of different ways to decompose a task. One common approach is to use a top-down approach. This involves starting with the overall task, and then breaking it down into smaller and smaller subtasks until each subtask is relatively simple. Another common approach is to use a bottom-up approach. This involves starting with the individual subtasks, and then grouping them together into larger and larger tasks until the overall task is reached.\n",
            "\n",
            "The best approach to task decomposition will vary depending on the specific task and the LLM being used. However, in general, task decomposition can be a helpful tool for improving the performance of LLMs on complex tasks."
          ]
        }
      ]
    },
    {
      "cell_type": "markdown",
      "source": [
        "# 2."
      ],
      "metadata": {
        "id": "L9dIMM-petGC"
      }
    },
    {
      "cell_type": "code",
      "source": [
        "del llm, prompt, rag_chain"
      ],
      "metadata": {
        "id": "TTfwV0X7g7LF"
      },
      "execution_count": 122,
      "outputs": []
    },
    {
      "cell_type": "code",
      "source": [
        "vectorstore.delete_collection()"
      ],
      "metadata": {
        "id": "7SiL1njag33U"
      },
      "execution_count": 123,
      "outputs": []
    },
    {
      "cell_type": "code",
      "source": [
        "# Load the document\n",
        "loader = WebBaseLoader(web_paths=(\"https://asana.com/resources/project-stakeholder\",))\n",
        "raw_documents = loader.load()\n",
        "\n",
        "# Same with question 1\n",
        "# ============== EDIT HERE ==================\n",
        "# Split the document into chunks\n",
        "text_splitter = RecursiveCharacterTextSplitter(\n",
        "  chunk_size=800, # Maximum size of chunks to return\n",
        "  chunk_overlap=100 # Overlap in characters between chunks\n",
        ")\n",
        "splits = text_splitter.split_documents(raw_documents)\n",
        "\n",
        "# Embed each chunks and load it into vector store\n",
        "vectorstore = Chroma.from_documents(\n",
        "  documents=splits,\n",
        "  embedding=GooglePalmEmbeddings(google_api_key=GOOGLE_API_KEY)\n",
        ")\n",
        "\n",
        "# Retrieve\n",
        "retriever = vectorstore.as_retriever(\n",
        "  search_type=\"similarity\",\n",
        "  search_kwargs={\"k\": 6}\n",
        ")\n",
        "\n",
        "# Generate\n",
        "llm = ChatGooglePalm(google_api_key=GOOGLE_API_KEY)\n",
        "# ===========================================\n",
        "\n",
        "def format_docs(docs):\n",
        "    return \"\\n\\n\".join(doc.page_content for doc in docs)"
      ],
      "metadata": {
        "id": "ksmknIW0bsgq"
      },
      "execution_count": 124,
      "outputs": []
    },
    {
      "cell_type": "code",
      "source": [
        "planner_prompt_template = \"I want to do the project management for {input}\"\n",
        "planner_prompt = ChatPromptTemplate.from_template(planner_prompt_template)\n",
        "\n",
        "# ============== EDIT HERE ==================\n",
        "# Planner\n",
        "# Use `from_template` method\n",
        "planner = (\n",
        "    planner_prompt\n",
        "    | llm\n",
        "    | StrOutputParser()\n",
        ")\n",
        "# ==========================================="
      ],
      "metadata": {
        "id": "2TjRjEowb3kh"
      },
      "execution_count": 125,
      "outputs": []
    },
    {
      "cell_type": "code",
      "source": [
        "internal_prompt_template = \"\"\"Answer the question based only on the following context:\n",
        "{context}\n",
        "\n",
        "Question: {question}\n",
        "\n",
        "Answer in the following: {base}\n",
        "\"\"\"\n",
        "internal_prompt = ChatPromptTemplate.from_template(internal_prompt_template)\n",
        "\n",
        "# ============== EDIT HERE ==================\n",
        "# Internal\n",
        "# Use `from_template` method\n",
        "# Use `question`, `retriever`, `format_docs` for `context`\n",
        "internal = (\n",
        "    {\"context\": itemgetter(\"question1\") | retriever | format_docs, \"question\": itemgetter(\"question1\"), \"base\": planner}\n",
        "    | internal_prompt\n",
        "    | llm\n",
        "    | StrOutputParser()\n",
        ")\n",
        "# ==========================================="
      ],
      "metadata": {
        "id": "X76IWNi_b8Yz"
      },
      "execution_count": 126,
      "outputs": []
    },
    {
      "cell_type": "code",
      "source": [
        "external_prompt_template = \"\"\"Answer the question based only on the following context:\n",
        "{context}\n",
        "\n",
        "Question: {question}\n",
        "\n",
        "Answer in the following: {base}\n",
        "\"\"\"\n",
        "external_prompt = ChatPromptTemplate.from_template(internal_prompt_template)\n",
        "\n",
        "# ============== EDIT HERE ==================\n",
        "# External, it is similar to `internal`\n",
        "# Use `from_template` method\n",
        "# Use `question`, `retriever`, `format_docs` for `context`\n",
        "external =  (\n",
        "    {\"context\": itemgetter(\"question2\") | retriever | format_docs, \"question\": itemgetter(\"question2\"), \"base\": planner}\n",
        "    | internal_prompt\n",
        "    | llm\n",
        "    | StrOutputParser()\n",
        ")\n",
        "# ==========================================="
      ],
      "metadata": {
        "id": "BStJlnDHcBQf"
      },
      "execution_count": 127,
      "outputs": []
    },
    {
      "cell_type": "code",
      "source": [
        "# ============== EDIT HERE ==================\n",
        "# Analysis\n",
        "# Use `from_messages` method\n",
        "analysis = (\n",
        "    ChatPromptTemplate.from_messages(\n",
        "        [\n",
        "          (\"system\", \"Generate a stakeholder analysis map for a given project.\"),\n",
        "          (\"human\", \"The details of a given project is following: {result3}\"),\n",
        "          (\"ai\", \"Internal stakeholders:\\n{result1}\\n\\nExternal stakeholders:\\n{result2}\")\n",
        "        ]\n",
        "    )\n",
        "    | llm\n",
        "    | StrOutputParser()\n",
        ")\n",
        "# ==========================================="
      ],
      "metadata": {
        "id": "hG_k4cYncH9_"
      },
      "execution_count": 128,
      "outputs": []
    },
    {
      "cell_type": "code",
      "source": [
        "# ============== EDIT HERE ==================\n",
        "# Final responder\n",
        "# Use `from_messages` method\n",
        "final_responder = (\n",
        "    ChatPromptTemplate.from_messages(\n",
        "        [\n",
        "          (\"system\", \"Generate a final response given the information.\"),\n",
        "          (\"ai\", \"{a_response}\"),\n",
        "          (\"human\", \"Common pitfalls:\\n{a_pitfalls}\")\n",
        "        ]\n",
        "    )\n",
        "    | llm\n",
        "    | StrOutputParser()\n",
        ")\n",
        "# ==========================================="
      ],
      "metadata": {
        "id": "7J9xhV9rcNqo"
      },
      "execution_count": 129,
      "outputs": []
    },
    {
      "cell_type": "code",
      "source": [
        "# You can check that you implement `planner` correctly using this cell\n",
        "planner.invoke({\"input\": \"scrum\"})"
      ],
      "metadata": {
        "id": "BdqWcOlGcWfH",
        "colab": {
          "base_uri": "https://localhost:8080/",
          "height": 90
        },
        "outputId": "7b29bdb3-f9cb-4745-beb3-c21064473ec7"
      },
      "execution_count": 130,
      "outputs": [
        {
          "output_type": "execute_result",
          "data": {
            "text/plain": [
              "'Scrum is a framework for developing and managing complex products. It is a lightweight framework with a focus on iterative development, team collaboration, and accountability. Scrum teams are cross-functional and self-organizing, and they work in sprints of two weeks or less.\\n\\nThe Scrum Master is responsible for ensuring that the Scrum process is followed and that the team is able to deliver the product backlog. The Product Owner is responsible for prioritizing the product backlog and ensuring that the team is working on the most important features. The Development Team is responsible for developing the product according to the Scrum process.\\n\\nTo do project management for Scrum, you need to understand the Scrum framework and the roles and responsibilities of each team member. You also need to be able to manage the Scrum process, including sprint planning, sprint execution, and sprint retrospectives.\\n\\nHere are some tips for project management for Scrum:\\n\\n* **Understand the Scrum framework.** The Scrum framework is a set of rules and guidelines that define how Scrum teams work. It is important to understand the Scrum framework before you start managing a Scrum project.\\n* **Know the roles and responsibilities of each team member.** In Scrum, there are three roles: Scrum Master, Product Owner, and Development Team. Each role has its own responsibilities, and it is important to know what each role is responsible for.\\n* **Manage the Scrum process.** The Scrum process is a set of activities that Scrum teams follow to develop and deliver products. It is important to manage the Scrum process so that the team can deliver the product on time and within budget.\\n* **Facilitate communication.** Communication is key in Scrum. It is important to facilitate communication between the Scrum team, the stakeholders, and other teams in the organization.\\n* **Resolve conflicts.** Conflicts are inevitable in any project, but they are especially common in Scrum projects. It is important to resolve conflicts quickly and effectively so that they do not derail the project.\\n* **Be flexible.** Scrum is a flexible framework, and it is important to be flexible when managing a Scrum project. Things will change, and you need to be able to adapt to those changes.\\n* **Be patient.** Scrum is a long-term approach to project management, and it takes time to see results. Be patient and trust the process.\\n\\nIf you follow these tips, you will be well on your way to successfully managing a Scrum project.'"
            ],
            "application/vnd.google.colaboratory.intrinsic+json": {
              "type": "string"
            }
          },
          "metadata": {},
          "execution_count": 130
        }
      ]
    },
    {
      "cell_type": "code",
      "source": [
        "# ============== EDIT HERE ==================\n",
        "# Chain 1\n",
        "chain1 = internal\n",
        "# ===========================================\n",
        "\n",
        "# You can check that you implement `chain1`, `internal` correctly using this cell\n",
        "chain1.invoke({\"input\": \"scrum\", \"question1\": \"List the internal stakeholders.\"})"
      ],
      "metadata": {
        "id": "CdecqdBIcgCA",
        "colab": {
          "base_uri": "https://localhost:8080/",
          "height": 90
        },
        "outputId": "ad8659c1-f3dc-4dc3-bc52-81e454795fd0"
      },
      "execution_count": 131,
      "outputs": [
        {
          "output_type": "execute_result",
          "data": {
            "text/plain": [
              "\"Internal stakeholders are people within an organization who are affected by or have an interest in the outcome of a project. They can include:\\n\\n* Project manager\\n* Project team members\\n* Project sponsor\\n* Executive leaders\\n* Other cross-functional internal teams\\n\\nIt is important to identify and manage internal stakeholders effectively in order to ensure the success of a project. This can be done by:\\n\\n* Communicating regularly with stakeholders\\n* Keeping stakeholders informed of progress and changes\\n* Involving stakeholders in decision-making\\n* Managing stakeholder expectations\\n\\nBy taking the time to manage internal stakeholders effectively, project managers can help to ensure that projects are completed on time, within budget, and to the satisfaction of all stakeholders.\\n\\nHere are some additional tips for managing internal stakeholders:\\n\\n* **Identify your stakeholders early on.** The first step in managing internal stakeholders is to identify who they are. This includes both individuals and groups who may be affected by or have an interest in the project.\\n* **Understand your stakeholders' needs and interests.** Once you have identified your stakeholders, it is important to understand their needs and interests. This will help you to communicate with them effectively and to keep them informed of progress and changes.\\n* **Communicate regularly with your stakeholders.** It is important to communicate regularly with your stakeholders, both formally and informally. This will help to keep them informed of progress and changes, and to address any concerns they may have.\\n* **Keep your stakeholders informed of progress and changes.** Stakeholders should be kept informed of progress and changes on a regular basis. This can be done through formal reports, informal updates, or meetings.\\n* **Involve your stakeholders in decision-making.** Stakeholders should be involved in decision-making whenever possible. This will help to ensure that they feel ownership of the project and that their needs are being met.\\n* **Manage stakeholder expectations.** It is important to manage stakeholder expectations from the outset of the project. This includes setting realistic goals and timelines, and communicating any changes or delays as soon as possible.\\n\\nBy following these tips, project managers can help to ensure that internal stakeholders are effectively managed and that projects are completed successfully.\""
            ],
            "application/vnd.google.colaboratory.intrinsic+json": {
              "type": "string"
            }
          },
          "metadata": {},
          "execution_count": 131
        }
      ]
    },
    {
      "cell_type": "code",
      "source": [
        "# ============== EDIT HERE ==================\n",
        "# Chain 2\n",
        "chain2 = external\n",
        "# ===========================================\n",
        "\n",
        "# You can check that you implement `chain2`, `external` correctly using this cell\n",
        "chain2.invoke({\"input\": \"scrum\", \"question2\": \"List the external stakeholders.\"})"
      ],
      "metadata": {
        "id": "YOqKMfp9crlK",
        "colab": {
          "base_uri": "https://localhost:8080/",
          "height": 90
        },
        "outputId": "456d8c9a-56bf-4866-b5de-587da016c6c7"
      },
      "execution_count": 132,
      "outputs": [
        {
          "output_type": "execute_result",
          "data": {
            "text/plain": [
              "\"External stakeholders are people or groups outside of the organization that are affected by the project or have an interest in its success. They can include customers, suppliers, partners, regulators, and the public.\\n\\nExternal stakeholders can play a significant role in the success of a project. They can provide feedback on the project, help to identify risks and opportunities, and advocate for the project within their own organizations. It is important to identify and manage external stakeholders early in the project lifecycle. This will help to ensure that their needs are met and that they are supportive of the project.\\n\\nThere are a number of ways to manage external stakeholders. One way is to create a stakeholder register. This is a document that lists all of the project's external stakeholders and their contact information. The stakeholder register should also include information on each stakeholder's interest in the project, their level of influence, and any potential risks or opportunities that they may pose.\\n\\nAnother way to manage external stakeholders is to develop a stakeholder engagement plan. This plan should outline how the project team will communicate with and involve external stakeholders. The plan should also identify the key messages that the project team wants to communicate to external stakeholders.\\n\\nFinally, it is important to build relationships with external stakeholders. This can be done by meeting with them regularly, keeping them updated on the project's progress, and responding to their concerns. By building relationships with external stakeholders, the project team can increase the chances of project success.\\n\\nHere are some examples of external stakeholders for a software development project:\\n\\n* Customers: The people or organizations who will be using the software.\\n* Suppliers: The companies that provide the software development team with the hardware, software, and other resources that they need to complete the project.\\n* Partners: Other companies that are working with the software development team on the project.\\n* Regulators: The government agencies that oversee the software development industry.\\n* The public: The general population, who may be affected by the software or who may have an interest in its development.\""
            ],
            "application/vnd.google.colaboratory.intrinsic+json": {
              "type": "string"
            }
          },
          "metadata": {},
          "execution_count": 132
        }
      ]
    },
    {
      "cell_type": "code",
      "source": [
        "# ============== EDIT HERE ==================\n",
        "# Chain 3\n",
        "# For `result3`, use the following line:\n",
        "# \"result3\": itemgetter(\"question3\") | retriever | format_docs\n",
        "chain3 = (\n",
        "    {\n",
        "        \"result3\": itemgetter(\"question3\") | retriever | format_docs,\n",
        "        \"result2\": chain2,\n",
        "        \"result1\": chain1\n",
        "    }\n",
        "    | analysis\n",
        ")\n",
        "# ===========================================\n",
        "\n",
        "# You can check that you implement `chain3`, `analysis` correctly using this cell\n",
        "chain3.invoke({\n",
        "    \"input\": \"scrum\",\n",
        "    \"question1\": \"List the internal stakeholders.\",\n",
        "    \"question2\": \"List the external stakeholders.\",\n",
        "    \"question3\": \"How to do a stockholder analysis?\"\n",
        "    })"
      ],
      "metadata": {
        "id": "SvukNtzIcz9L",
        "colab": {
          "base_uri": "https://localhost:8080/",
          "height": 90
        },
        "outputId": "7ba5e9e2-97c8-4714-e96f-9070499043b3"
      },
      "execution_count": 133,
      "outputs": [
        {
          "output_type": "execute_result",
          "data": {
            "text/plain": [
              "'Stakeholder analysis is a process of identifying and assessing the needs, interests, and potential impact of all the people or groups who may be affected by a project. It is an essential part of project management, as it helps to ensure that all stakeholders are considered and that their needs are met.\\n\\nStakeholders can be internal or external to the organization. Internal stakeholders are those who are directly involved in the project, such as the project manager, project team members, and project sponsor. External stakeholders are those who are not directly involved in the project, but who may be affected by its outcome, such as customers, suppliers, partners, and the public.\\n\\nThere are a number of benefits to conducting a stakeholder analysis. First, it helps to identify all of the stakeholders who may be affected by the project. This is important, as it ensures that all stakeholders are considered and that their needs are met. Second, it helps to assess the needs and interests of each stakeholder. This is important, as it allows the project team to develop a project plan that meets the needs of all stakeholders. Third, it helps to identify potential risks and challenges that may arise during the project. This is important, as it allows the project team to develop contingency plans to address these risks and challenges.\\n\\nThere are a number of ways to conduct a stakeholder analysis. One way is to create a stakeholder register. A stakeholder register is a document that lists all of the stakeholders who may be affected by the project, along with their contact information, their needs and interests, and their potential impact on the project. Another way to conduct a stakeholder analysis is to create a stakeholder map. A stakeholder map is a visual representation of the relationships between the stakeholders. This can be helpful in understanding how the stakeholders interact with each other and how they may affect the project.\\n\\nOnce a stakeholder analysis has been conducted, the project team can develop a stakeholder management plan. A stakeholder management plan is a document that outlines how the project team will communicate with and manage the stakeholders. This plan should include strategies for communicating with the stakeholders, managing their expectations, and resolving any issues that may arise.\\n\\nStakeholder management is an ongoing process. The project team should regularly review the stakeholder register and stakeholder map to identify any changes in the stakeholders or their needs. The project team should also regularly review the stakeholder management plan to ensure that it is still effective.'"
            ],
            "application/vnd.google.colaboratory.intrinsic+json": {
              "type": "string"
            }
          },
          "metadata": {},
          "execution_count": 133
        }
      ]
    },
    {
      "cell_type": "code",
      "source": [
        "# Chain 4 (Don't modify)\n",
        "chain4 = (\n",
        "    {\"question\": itemgetter(\"question4\"),\n",
        "     \"context\": itemgetter(\"question4\") | retriever | format_docs}\n",
        "    | ChatPromptTemplate.from_template(\"{context} {question}\")\n",
        "    | llm\n",
        "    | StrOutputParser()\n",
        ")\n",
        "\n",
        "chain4.invoke({\"question4\": \"List the common stakeholder mapping pitfalls.\"})"
      ],
      "metadata": {
        "id": "ebFGx2HQdJIz",
        "colab": {
          "base_uri": "https://localhost:8080/",
          "height": 90
        },
        "outputId": "26c8b4ca-36ce-4c1e-fad3-68f0dbfa7540"
      },
      "execution_count": 134,
      "outputs": [
        {
          "output_type": "execute_result",
          "data": {
            "text/plain": [
              "\"Here are the common stakeholder mapping pitfalls:\\n\\n* **Lack of boundaries:** Overeager project stakeholders can cause scope creep. To avoid this, implement a change control process.\\n* **Not including stakeholders:** During the initial stakeholder identification phase, you forgot about a stakeholder who has a high interest in this initiative. To avoid this, involve your project team during the stakeholder identification process.\\n* **Bringing stakeholders in too late:** You already kicked off your project, and then started your stakeholder analysis. To avoid this, create a stakeholder analysis map up front.\\n* **Not communicating effectively:** You're not communicating effectively with your stakeholders, which is leading to misunderstandings and frustration. To avoid this, create a communication plan and stick to it.\\n* **Not managing expectations:** You're not managing your stakeholders' expectations, which is leading to disappointment and frustration. To avoid this, set clear expectations at the beginning of the project and communicate regularly with your stakeholders.\\n* **Not involving stakeholders in decision-making:** You're not involving your stakeholders in decision-making, which is leading to a lack of buy-in and engagement. To avoid this, involve your stakeholders in decision-making throughout the project.\\n* **Not managing conflict:** Conflict is inevitable in any project, but not managing it effectively can lead to problems. To avoid this, have a plan for managing conflict and be prepared to address it head-on.\\n\\nBy avoiding these pitfalls, you can create a stakeholder analysis map that will help you manage your project effectively.\""
            ],
            "application/vnd.google.colaboratory.intrinsic+json": {
              "type": "string"
            }
          },
          "metadata": {},
          "execution_count": 134
        }
      ]
    },
    {
      "cell_type": "code",
      "source": [
        "# ============== EDIT HERE ==================\n",
        "# Chain 5\n",
        "chain5 = (\n",
        "    {\n",
        "        \"a_response\": chain3,\n",
        "        \"a_pitfalls\": chain4\n",
        "    }\n",
        "    | final_responder\n",
        ")\n",
        "# ===========================================\n",
        "\n",
        "# You can check that you implement `chain5`, `final_responder` correctly using this cell\n",
        "chain5.invoke({\n",
        "    \"input\": \"scrum\",\n",
        "    \"question1\": \"List the internal stakeholders.\",\n",
        "    \"question2\": \"List the external stakeholders.\",\n",
        "    \"question3\": \"How to do a stockholder analysis map?\",\n",
        "    \"question4\": \"List the common stakeholder mapping pitfalls.\"\n",
        "    })"
      ],
      "metadata": {
        "id": "sE00QZTGdV4A",
        "colab": {
          "base_uri": "https://localhost:8080/",
          "height": 90
        },
        "outputId": "c05de5a9-0411-497c-f81b-c2c5db328176"
      },
      "execution_count": 135,
      "outputs": [
        {
          "output_type": "execute_result",
          "data": {
            "text/plain": [
              "\"Stakeholder analysis is a critical part of project management. By understanding the needs and expectations of stakeholders, project managers can develop strategies to manage them effectively. However, there are a number of common pitfalls that can derail stakeholder management efforts.\\n\\nOne common pitfall is **not including stakeholders**. This can happen if stakeholders are not identified early in the project or if they are not given an opportunity to provide input. When stakeholders are not included, they may feel like they are not being heard and may become resistant to the project.\\n\\nAnother common pitfall is **not communicating effectively**. Stakeholders need to know what is going on with the project and they need to know it in a timely manner. If communication is not effective, stakeholders may become frustrated and may start to spread rumors or negative information about the project.\\n\\n**Not managing expectations** is another common pitfall. Stakeholders need to know what they can expect from the project and they need to know it upfront. If expectations are not managed, stakeholders may become disappointed or angry when the project does not meet their expectations.\\n\\nFinally, **not managing risks** is a common pitfall. Stakeholders need to know about the risks associated with the project and they need to know how the project manager is planning to mitigate those risks. If risks are not managed, stakeholders may become concerned about the project's success and may start to withdraw their support.\\n\\nBy avoiding these common pitfalls, project managers can develop effective stakeholder management strategies that will help ensure the success of their projects.\\n\\nHere are some additional tips for effective stakeholder management:\\n\\n* **Identify all stakeholders**. This includes both internal and external stakeholders.\\n* **Assess the level of interest and influence of each stakeholder**. This will help you prioritize your efforts.\\n* **Develop a communication plan**. This plan should include how you will communicate with stakeholders, what information you will share, and how often you will communicate.\\n* **Manage expectations**. Be clear about what stakeholders can expect from the project and be prepared to manage their expectations if the project changes.\\n* **Manage risks**. Identify and assess the risks associated with the project and develop plans to mitigate those risks.\\n* **Build relationships**. Take the time to build relationships with stakeholders. This will help you understand their needs and expectations and will make it easier to manage them effectively.\""
            ],
            "application/vnd.google.colaboratory.intrinsic+json": {
              "type": "string"
            }
          },
          "metadata": {},
          "execution_count": 135
        }
      ]
    },
    {
      "cell_type": "markdown",
      "source": [
        "# Make sure to save both the code and output values prior to submission.\n",
        "# You must delete your GOOGLE_API_KEY before submitting."
      ],
      "metadata": {
        "id": "Kw1W7Fa5bYsY"
      }
    }
  ]
}