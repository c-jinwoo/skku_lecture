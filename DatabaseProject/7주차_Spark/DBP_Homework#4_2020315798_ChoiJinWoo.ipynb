{
  "cells": [
    {
      "cell_type": "markdown",
      "id": "ddae8da6",
      "metadata": {
        "id": "ddae8da6"
      },
      "source": [
        "# Database Project (SWE3033) (Fall 2023)\n",
        "# Homework #4 (50pts, Due date: 10/11)"
      ]
    },
    {
      "cell_type": "markdown",
      "id": "5f53269c",
      "metadata": {
        "id": "5f53269c"
      },
      "source": [
        "**Instruction:** In this homework, we provide you with a jupyter notebook file (DBP_Homework#4.ipynb). You should follow the instructions in these documents carefully."
      ]
    },
    {
      "cell_type": "markdown",
      "id": "0fa8721c",
      "metadata": {
        "id": "0fa8721c"
      },
      "source": [
        "**Submit two files as follows**:\n",
        "- `DBP_Homework#4_StudentID_Name.zip`\n",
        "\t- `DBP_Homework#4_StudentID_Name.ipynb`\n",
        "\t- `DBP_Homework#4_StudentID_Name.pdf`\n",
        "   "
      ]
    },
    {
      "cell_type": "code",
      "execution_count": null,
      "id": "e20f089c",
      "metadata": {
        "scrolled": true,
        "colab": {
          "base_uri": "https://localhost:8080/"
        },
        "id": "e20f089c",
        "outputId": "49ee86b2-7ac9-42d0-b319-efbbde2f8aa0"
      },
      "outputs": [
        {
          "output_type": "stream",
          "name": "stdout",
          "text": [
            "Collecting pyspark\n",
            "  Downloading pyspark-3.5.0.tar.gz (316.9 MB)\n",
            "\u001b[2K     \u001b[90m━━━━━━━━━━━━━━━━━━━━━━━━━━━━━━━━━━━━━━━\u001b[0m \u001b[32m316.9/316.9 MB\u001b[0m \u001b[31m4.6 MB/s\u001b[0m eta \u001b[36m0:00:00\u001b[0m\n",
            "\u001b[?25h  Preparing metadata (setup.py) ... \u001b[?25l\u001b[?25hdone\n",
            "Requirement already satisfied: py4j==0.10.9.7 in /usr/local/lib/python3.10/dist-packages (from pyspark) (0.10.9.7)\n",
            "Building wheels for collected packages: pyspark\n",
            "  Building wheel for pyspark (setup.py) ... \u001b[?25l\u001b[?25hdone\n",
            "  Created wheel for pyspark: filename=pyspark-3.5.0-py2.py3-none-any.whl size=317425344 sha256=6622a75f8c1ae7d3eaf306f47d21f9e35cdac2166dccfec09144c9dd6c607799\n",
            "  Stored in directory: /root/.cache/pip/wheels/41/4e/10/c2cf2467f71c678cfc8a6b9ac9241e5e44a01940da8fbb17fc\n",
            "Successfully built pyspark\n",
            "Installing collected packages: pyspark\n",
            "Successfully installed pyspark-3.5.0\n"
          ]
        }
      ],
      "source": [
        "!pip install pyspark\n",
        "\n",
        "# Import the necessary libraries.\n",
        "from pyspark import SparkContext\n",
        "\n",
        "# Create an RDD variable in the cluster by linking data to a spark cluter\n",
        "sc = SparkContext()"
      ]
    },
    {
      "cell_type": "markdown",
      "id": "70b2a96f",
      "metadata": {
        "id": "70b2a96f"
      },
      "source": [
        "### 1. [10pts] Calculate the visit frequency for each user to the places James and Mary visited."
      ]
    },
    {
      "cell_type": "code",
      "execution_count": null,
      "id": "fa94afb6",
      "metadata": {
        "colab": {
          "base_uri": "https://localhost:8080/"
        },
        "id": "fa94afb6",
        "outputId": "d6910a1f-afa3-4d3d-de90-88f1fcec4245"
      },
      "outputs": [
        {
          "output_type": "stream",
          "name": "stdout",
          "text": [
            "James: defaultdict(<class 'int'>, {'E-mart': 1, 'Starbucks': 2, 'GS25': 1, 'HomePlus': 1, 'CU': 1})\n",
            "Mary: defaultdict(<class 'int'>, {'Starbucks': 2, 'E-mart': 1, 'LotteMart': 2})\n"
          ]
        }
      ],
      "source": [
        "#### EDIT HERE ####\n",
        "\n",
        "# Convert python variable to RDD (HINE: parallelize())\n",
        "james = sc.parallelize(['E-mart', 'Starbucks', 'GS25', 'Starbucks', 'HomePlus', 'CU'])\n",
        "mary = sc.parallelize(['Starbucks', 'E-mart', 'Starbucks', 'LotteMart', 'LotteMart'])\n",
        "\n",
        "james_visit_countByValue = james.countByValue()\n",
        "mary_visit_countByValue = mary.countByValue()\n",
        "\n",
        "###################\n",
        "\n",
        "print(\"James:\", james_visit_countByValue)\n",
        "print(\"Mary:\", mary_visit_countByValue)"
      ]
    },
    {
      "cell_type": "markdown",
      "id": "90be4032",
      "metadata": {
        "id": "90be4032"
      },
      "source": [
        "### 2. [10pts] Count the number of words in the given data using the following two operations and explain the difference between the two operations."
      ]
    },
    {
      "cell_type": "code",
      "execution_count": null,
      "id": "4dd99a26",
      "metadata": {
        "colab": {
          "base_uri": "https://localhost:8080/"
        },
        "id": "4dd99a26",
        "outputId": "e2a2b317-2ba8-4e5f-aea9-0fa481e92e58"
      },
      "outputs": [
        {
          "output_type": "stream",
          "name": "stdout",
          "text": [
            "[('even', 4), ('odd', 5)]\n",
            "[('even', 4), ('odd', 5)]\n"
          ]
        }
      ],
      "source": [
        "data = sc.parallelize([('odd', 1), ('odd', 1), ('even', 1), ('odd', 1), ('even', 1), ('odd', 1), ('odd', 1), ('even', 1), ('even', 1)])\n",
        "\n",
        "#### EDIT HERE ####\n",
        "\n",
        "data_from_groupByKey = data.groupByKey().map(lambda x: (x[0], len(x[1]))).collect()\n",
        "data_from_reduceByKey = data.reduceByKey(lambda a, b: a + b).collect()\n",
        "\n",
        "###################\n",
        "\n",
        "print(data_from_groupByKey)\n",
        "print(data_from_reduceByKey)"
      ]
    },
    {
      "cell_type": "markdown",
      "id": "aaaec408",
      "metadata": {
        "id": "aaaec408"
      },
      "source": [
        "### 3. [20pts] The following data represents the songs Mary and James have listened to and the play counts. Answer the following three questions."
      ]
    },
    {
      "cell_type": "code",
      "execution_count": null,
      "id": "d056fc1a",
      "metadata": {
        "id": "d056fc1a"
      },
      "outputs": [],
      "source": [
        "james = sc.parallelize([('Thriller', 30), ('Everybody', 34), ('Everybody', 30), ('Billie_Jean', 2)])\n",
        "mary = sc.parallelize([('Thriller', 20), ('Sorry', 23), ('Sorry', 3), ('Billie_Jean', 5)])"
      ]
    },
    {
      "cell_type": "markdown",
      "id": "984757ad",
      "metadata": {
        "id": "984757ad"
      },
      "source": [
        "#### a. For each user, calculate the number of times each song has been listened to, store it in a new RDD. (HINT: reduceByKey())"
      ]
    },
    {
      "cell_type": "code",
      "execution_count": null,
      "id": "2cc1bd2e",
      "metadata": {
        "colab": {
          "base_uri": "https://localhost:8080/"
        },
        "id": "2cc1bd2e",
        "outputId": "8e75ae41-a393-491e-ccc7-c2825a36b805"
      },
      "outputs": [
        {
          "output_type": "stream",
          "name": "stdout",
          "text": [
            "[('Thriller', 30), ('Everybody', 64), ('Billie_Jean', 2)]\n",
            "[('Thriller', 20), ('Sorry', 26), ('Billie_Jean', 5)]\n"
          ]
        }
      ],
      "source": [
        "#### EDIT HERE ####\n",
        "\n",
        "james_reduceByKey = james.reduceByKey(lambda a, b: a + b).collect()\n",
        "mary_reduceByKey = mary.reduceByKey(lambda a, b: a + b).collect()\n",
        "\n",
        "###################\n",
        "print(james_reduceByKey)\n",
        "print(mary_reduceByKey)"
      ]
    },
    {
      "cell_type": "markdown",
      "id": "efbaa847",
      "metadata": {
        "id": "efbaa847"
      },
      "source": [
        "#### b. Create a new RDD containing songs that both users have listened to and their respective play counts. (HINT: join())"
      ]
    },
    {
      "cell_type": "code",
      "execution_count": null,
      "id": "bd1259c4",
      "metadata": {
        "colab": {
          "base_uri": "https://localhost:8080/"
        },
        "id": "bd1259c4",
        "outputId": "51a8bd5a-3d1d-4799-db7f-48ce93daecf6"
      },
      "outputs": [
        {
          "output_type": "stream",
          "name": "stdout",
          "text": [
            "[('Thriller', (30, 20)), ('Billie_Jean', (2, 5))]\n"
          ]
        }
      ],
      "source": [
        "#### EDIT HERE ####\n",
        "\n",
        "james_mary_join = james.join(mary).collect()\n",
        "\n",
        "###################\n",
        "print(james_mary_join)"
      ]
    },
    {
      "cell_type": "markdown",
      "id": "3f2a13bf",
      "metadata": {
        "id": "3f2a13bf"
      },
      "source": [
        "#### c. Calculate the total number of music plays that James and Mary have played in common."
      ]
    },
    {
      "cell_type": "code",
      "execution_count": null,
      "id": "0e99944a",
      "metadata": {
        "colab": {
          "base_uri": "https://localhost:8080/"
        },
        "id": "0e99944a",
        "outputId": "8fc35b51-e94b-41e6-ac35-aaab03c6b65c"
      },
      "outputs": [
        {
          "output_type": "stream",
          "name": "stdout",
          "text": [
            "[50, 7]\n"
          ]
        }
      ],
      "source": [
        "#### EDIT HERE ####\n",
        "\n",
        "james_mary_result = james.join(mary).map(lambda x: x[1][0] + x[1][1]).collect()\n",
        "\n",
        "###################\n",
        "print(james_mary_result)"
      ]
    },
    {
      "cell_type": "markdown",
      "id": "42abfa0e",
      "metadata": {
        "id": "42abfa0e"
      },
      "source": [
        "# Make sure to save both the code and output values prior to submission."
      ]
    }
  ],
  "metadata": {
    "kernelspec": {
      "display_name": "Python 3 (ipykernel)",
      "language": "python",
      "name": "python3"
    },
    "language_info": {
      "codemirror_mode": {
        "name": "ipython",
        "version": 3
      },
      "file_extension": ".py",
      "mimetype": "text/x-python",
      "name": "python",
      "nbconvert_exporter": "python",
      "pygments_lexer": "ipython3",
      "version": "3.9.13"
    },
    "colab": {
      "provenance": []
    }
  },
  "nbformat": 4,
  "nbformat_minor": 5
}