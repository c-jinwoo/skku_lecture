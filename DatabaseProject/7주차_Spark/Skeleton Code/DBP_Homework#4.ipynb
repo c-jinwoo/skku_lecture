{
 "cells": [
  {
   "cell_type": "markdown",
   "id": "ddae8da6",
   "metadata": {},
   "source": [
    "# Database Project (SWE3033) (Fall 2023)\n",
    "# Homework #4 (50pts, Due date: 10/11)"
   ]
  },
  {
   "cell_type": "markdown",
   "id": "5f53269c",
   "metadata": {},
   "source": [
    "**Instruction:** In this homework, we provide you with a jupyter notebook file (DBP_Homework#4.ipynb). You should follow the instructions in these documents carefully."
   ]
  },
  {
   "cell_type": "markdown",
   "id": "0fa8721c",
   "metadata": {},
   "source": [
    "**Submit two files as follows**:\n",
    "- `DBP_Homework#4_StudentID_Name.zip`\n",
    "\t- `DBP_Homework#4_StudentID_Name.ipynb`\n",
    "\t- `DBP_Homework#4_StudentID_Name.pdf`\n",
    "   "
   ]
  },
  {
   "cell_type": "code",
   "execution_count": 2,
   "id": "e20f089c",
   "metadata": {
    "scrolled": true
   },
   "outputs": [
    {
     "name": "stderr",
     "output_type": "stream",
     "text": [
      "Setting default log level to \"WARN\".\n",
      "To adjust logging level use sc.setLogLevel(newLevel). For SparkR, use setLogLevel(newLevel).\n",
      "23/10/08 19:10:07 WARN NativeCodeLoader: Unable to load native-hadoop library for your platform... using builtin-java classes where applicable\n"
     ]
    }
   ],
   "source": [
    "# Import the necessary libraries.\n",
    "from pyspark import SparkContext\n",
    "\n",
    "# Create an RDD variable in the cluster by linking data to a spark cluter\n",
    "sc = SparkContext()"
   ]
  },
  {
   "cell_type": "markdown",
   "id": "70b2a96f",
   "metadata": {},
   "source": [
    "### 1. [10pts] Calculate the visit frequency for each user to the places James and Mary visited."
   ]
  },
  {
   "cell_type": "code",
   "execution_count": null,
   "id": "fa94afb6",
   "metadata": {},
   "outputs": [],
   "source": [
    "#### EDIT HERE ####\n",
    "\n",
    "# Convert python variable to RDD (HINE: parallelize())\n",
    "james = None \n",
    "mary = None \n",
    "\n",
    "james_visit_countByValue = None\n",
    "mary_visit_countByValue = None\n",
    "\n",
    "###################\n",
    "\n",
    "print(\"James:\", james_visit_countByValue)\n",
    "print(\"Mary:\", mary_visit_countByValue)"
   ]
  },
  {
   "cell_type": "markdown",
   "id": "90be4032",
   "metadata": {},
   "source": [
    "### 2. [10pts] Count the number of words in the given data using the following two operations and explain the difference between the two operations."
   ]
  },
  {
   "cell_type": "code",
   "execution_count": 25,
   "id": "4dd99a26",
   "metadata": {},
   "outputs": [],
   "source": [
    "data = sc.parallelize([('odd', 1), ('odd', 1), ('even', 1), ('odd', 1), ('even', 1), ('odd', 1), ('odd', 1), ('even', 1), ('even', 1)])\n",
    "\n",
    "#### EDIT HERE ####\n",
    "\n",
    "data_from_groupByKey = None\n",
    "data_from_reduceByKey = None\n",
    "\n",
    "###################\n",
    "\n",
    "print(data_from_groupByKey)\n",
    "print(data_from_reduceByKey)"
   ]
  },
  {
   "cell_type": "markdown",
   "id": "aaaec408",
   "metadata": {},
   "source": [
    "### 3. [20pts] The following data represents the songs Mary and James have listened to and the play counts. Answer the following three questions."
   ]
  },
  {
   "cell_type": "code",
   "execution_count": 31,
   "id": "d056fc1a",
   "metadata": {},
   "outputs": [],
   "source": [
    "james = sc.parallelize([('Thriller', 30), ('Everybody', 34), ('Everybody', 30), ('Billie_Jean', 2)])\n",
    "mary = sc.parallelize([('Thriller', 20), ('Sorry', 23), ('Sorry', 3), ('Billie_Jean', 5)])"
   ]
  },
  {
   "cell_type": "markdown",
   "id": "984757ad",
   "metadata": {},
   "source": [
    "#### a. For each user, calculate the number of times each song has been listened to, store it in a new RDD. (HINT: reduceByKey())"
   ]
  },
  {
   "cell_type": "code",
   "execution_count": null,
   "id": "2cc1bd2e",
   "metadata": {},
   "outputs": [],
   "source": [
    "#### EDIT HERE ####\n",
    "\n",
    "james_reduceByKey = None\n",
    "mary_reduceByKey = None\n",
    "\n",
    "###################\n",
    "print(james_reduceByKey)\n",
    "print(mary_reduceByKey)"
   ]
  },
  {
   "cell_type": "markdown",
   "id": "efbaa847",
   "metadata": {},
   "source": [
    "#### b. Create a new RDD containing songs that both users have listened to and their respective play counts. (HINT: join())"
   ]
  },
  {
   "cell_type": "code",
   "execution_count": null,
   "id": "bd1259c4",
   "metadata": {},
   "outputs": [],
   "source": [
    "#### EDIT HERE ####\n",
    "\n",
    "james_mary_join = None\n",
    "\n",
    "###################\n",
    "print(james_mary_join)"
   ]
  },
  {
   "cell_type": "markdown",
   "id": "3f2a13bf",
   "metadata": {},
   "source": [
    "#### c. Calculate the total number of music plays that James and Mary have played in common."
   ]
  },
  {
   "cell_type": "code",
   "execution_count": null,
   "id": "0e99944a",
   "metadata": {},
   "outputs": [],
   "source": [
    "#### EDIT HERE ####\n",
    "\n",
    "james_mary_result = None\n",
    "\n",
    "###################\n",
    "print(james_mary_result)"
   ]
  },
  {
   "cell_type": "markdown",
   "id": "42abfa0e",
   "metadata": {},
   "source": [
    "# Make sure to save both the code and output values prior to submission."
   ]
  }
 ],
 "metadata": {
  "kernelspec": {
   "display_name": "Python 3 (ipykernel)",
   "language": "python",
   "name": "python3"
  },
  "language_info": {
   "codemirror_mode": {
    "name": "ipython",
    "version": 3
   },
   "file_extension": ".py",
   "mimetype": "text/x-python",
   "name": "python",
   "nbconvert_exporter": "python",
   "pygments_lexer": "ipython3",
   "version": "3.9.13"
  }
 },
 "nbformat": 4,
 "nbformat_minor": 5
}
