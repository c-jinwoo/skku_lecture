{
  "nbformat": 4,
  "nbformat_minor": 0,
  "metadata": {
    "colab": {
      "provenance": []
    },
    "kernelspec": {
      "name": "python3",
      "display_name": "Python 3"
    },
    "language_info": {
      "name": "python"
    }
  },
  "cells": [
    {
      "cell_type": "markdown",
      "source": [
        "# Database Project (SWE3033) (Fall 2023)\n",
        "# Homework #5 (50pts, Due date: 11/1)"
      ],
      "metadata": {
        "id": "J7KpvbxjygS2"
      }
    },
    {
      "cell_type": "markdown",
      "source": [
        "**Instruction:** In this homework, we provide you with a jupyter notebook file (DBP_Homework5.ipynb). You should follow the instructions in these documents carefully."
      ],
      "metadata": {
        "id": "xsL7H2SUyeaS"
      }
    },
    {
      "cell_type": "markdown",
      "source": [
        "**Submit two files as follows**:\n",
        "- `DBP_Homework5_StudentID.zip`\n",
        "\t- `DBP_Homework5_StudentID.ipynb`\n",
        "\t- `DBP_Homework5_StudentID.pdf`\n",
        "   "
      ],
      "metadata": {
        "id": "doZ35oqWyqLD"
      }
    },
    {
      "cell_type": "markdown",
      "source": [
        "**Important:** When submitting, you must delete your ***CONNECTION_STRING***.\n",
        "- Your Username and Password information are here.\n",
        "- Be sure to remove this before submitting."
      ],
      "metadata": {
        "id": "r0swrvAkSgnD"
      }
    },
    {
      "cell_type": "markdown",
      "source": [
        "### Install pymongo library"
      ],
      "metadata": {
        "id": "J9QNtt7NyuMt"
      }
    },
    {
      "cell_type": "code",
      "execution_count": 22,
      "metadata": {
        "id": "oUeUCAsKHQQ6",
        "colab": {
          "base_uri": "https://localhost:8080/"
        },
        "outputId": "95425bae-aa16-4f6a-e105-f6a83ca56f2d"
      },
      "outputs": [
        {
          "output_type": "stream",
          "name": "stdout",
          "text": [
            "Requirement already satisfied: pymongo in /usr/local/lib/python3.10/dist-packages (4.5.0)\n",
            "Requirement already satisfied: dnspython<3.0.0,>=1.16.0 in /usr/local/lib/python3.10/dist-packages (from pymongo) (2.4.2)\n"
          ]
        }
      ],
      "source": [
        "!pip install pymongo"
      ]
    },
    {
      "cell_type": "markdown",
      "source": [
        "### Import required library"
      ],
      "metadata": {
        "id": "CPAUJE3EyxO-"
      }
    },
    {
      "cell_type": "code",
      "source": [
        "import os\n",
        "import time\n",
        "import json\n",
        "from tqdm import tqdm\n",
        "\n",
        "import pymongo\n",
        "from pymongo import MongoClient"
      ],
      "metadata": {
        "id": "HMf9GVZzHx0v"
      },
      "execution_count": 23,
      "outputs": []
    },
    {
      "cell_type": "markdown",
      "source": [
        "# 1."
      ],
      "metadata": {
        "id": "2WrVwNJtzBsg"
      }
    },
    {
      "cell_type": "markdown",
      "source": [
        "### a. Create a database and a collection. Specify the name of the database as ‘airbnb’."
      ],
      "metadata": {
        "id": "vILYImfvzIMq"
      }
    },
    {
      "cell_type": "code",
      "source": [
        "# ============= EDIT HERE =============\n",
        "my_client = MongoClient(CONNECTION_STRING)\n",
        "database = my_client[\"airbnb\"]\n",
        "collection = database[\"listings\"]\n",
        "\n",
        "# =====================================\n",
        "\n",
        "print(my_client)\n",
        "print(database)\n",
        "print(collection)"
      ],
      "metadata": {
        "id": "LqM6XocYH7R4",
        "colab": {
          "base_uri": "https://localhost:8080/"
        },
        "outputId": "2b5fadc4-4715-415d-efa3-0ada793eaf68"
      },
      "execution_count": 25,
      "outputs": [
        {
          "output_type": "stream",
          "name": "stdout",
          "text": [
            "MongoClient(host=['ac-k4jho8k-shard-00-02.tzcaxbf.mongodb.net:27017', 'ac-k4jho8k-shard-00-00.tzcaxbf.mongodb.net:27017', 'ac-k4jho8k-shard-00-01.tzcaxbf.mongodb.net:27017'], document_class=dict, tz_aware=False, connect=True, retrywrites=True, w='majority', authsource='admin', replicaset='atlas-zxv90v-shard-0', tls=True)\n",
            "Database(MongoClient(host=['ac-k4jho8k-shard-00-02.tzcaxbf.mongodb.net:27017', 'ac-k4jho8k-shard-00-00.tzcaxbf.mongodb.net:27017', 'ac-k4jho8k-shard-00-01.tzcaxbf.mongodb.net:27017'], document_class=dict, tz_aware=False, connect=True, retrywrites=True, w='majority', authsource='admin', replicaset='atlas-zxv90v-shard-0', tls=True), 'airbnb')\n",
            "Collection(Database(MongoClient(host=['ac-k4jho8k-shard-00-02.tzcaxbf.mongodb.net:27017', 'ac-k4jho8k-shard-00-00.tzcaxbf.mongodb.net:27017', 'ac-k4jho8k-shard-00-01.tzcaxbf.mongodb.net:27017'], document_class=dict, tz_aware=False, connect=True, retrywrites=True, w='majority', authsource='admin', replicaset='atlas-zxv90v-shard-0', tls=True), 'airbnb'), 'listings')\n"
          ]
        }
      ]
    },
    {
      "cell_type": "markdown",
      "source": [
        "### b. Save the provided documents to a collection and retrieve one document."
      ],
      "metadata": {
        "id": "_YwsPqwo0gMO"
      }
    },
    {
      "cell_type": "code",
      "source": [
        "collection.drop()\n",
        "\n",
        "doc_list = []\n",
        "for line in open('airbnb-listings-newyork.json', 'r'):\n",
        "    doc_list.append(json.loads(line))\n",
        "\n",
        "# It may take approximately a few minutes to complete.\n",
        "# ============= EDIT HERE =============\n",
        "\n",
        "collection.insert_many(doc_list)\n",
        "result_document = collection.find_one()\n",
        "\n",
        "print(result_document)\n",
        "\n",
        "# ====================================="
      ],
      "metadata": {
        "id": "Djc0sYv-0chQ",
        "colab": {
          "base_uri": "https://localhost:8080/"
        },
        "outputId": "15ac5a2b-c0d9-4e4f-ffa2-b0a81e3d8694"
      },
      "execution_count": 26,
      "outputs": [
        {
          "output_type": "stream",
          "name": "stdout",
          "text": [
            "{'_id': 11627443, 'name': 'Upper East Side cozy private room', 'property_type': 'Apartment', 'room_type': 'Private room', 'accommodates': 2, 'beds': 1.0, 'amenities': ['Internet', 'Wireless Internet', 'Air conditioning', 'Kitchen', 'Elevator in building', 'Heating', 'Washer', 'Dryer', 'Smoke detector', 'Carbon monoxide detector', 'Essentials', 'Hangers', 'Hair dryer', 'translation missing: en.hosting_amenity_49', 'translation missing: en.hosting_amenity_50'], 'price': 80.0, 'text': 'Nice and cozy private  fully furnished bedroom available in a 2 bedroom converted apartment. Amazing neighborhood with bars, restaurants, grocery stores, pharmacies etc.'}\n"
          ]
        }
      ]
    },
    {
      "cell_type": "markdown",
      "source": [
        "# 2."
      ],
      "metadata": {
        "id": "8zOk27Dd0JX2"
      }
    },
    {
      "cell_type": "markdown",
      "source": [
        "### a. Count the number of listings with 2 or more beds. *(HINT: count_documents())*"
      ],
      "metadata": {
        "id": "9AfypgXF0MGl"
      }
    },
    {
      "cell_type": "code",
      "source": [
        "# ============= EDIT HERE =============\n",
        "\n",
        "num_listings = collection.count_documents({\"beds\": {\"$gte\": 2}})\n",
        "\n",
        "# =====================================\n",
        "\n",
        "print(num_listings)"
      ],
      "metadata": {
        "id": "4gHDYBGtM643",
        "colab": {
          "base_uri": "https://localhost:8080/"
        },
        "outputId": "f13ab036-969a-4cc1-bf61-6d2d00508b23"
      },
      "execution_count": 30,
      "outputs": [
        {
          "output_type": "stream",
          "name": "stdout",
          "text": [
            "295\n"
          ]
        }
      ]
    },
    {
      "cell_type": "markdown",
      "source": [
        "### b. Apply a 20% discount to a listing price with a room type of ‘Shared room,’ and then retrieve the top 5 listings with a room type of ‘Shared room’, sorted in descending order. *(HINT: update_many(), find())*"
      ],
      "metadata": {
        "id": "V1DqiKf01dBZ"
      }
    },
    {
      "cell_type": "code",
      "source": [
        "# ============= EDIT HERE =============\n",
        "\n",
        "collection.update_many(\n",
        "    {\"room_type\": \"Shared room\"},\n",
        "    {\"$mul\": {\"price\": 0.8}}\n",
        ")\n",
        "top5_listings = collection.find({\"room_type\": \"Shared room\"}).sort(\"price\", pymongo.DESCENDING).limit(5)\n",
        "\n",
        "# =====================================\n",
        "\n",
        "print(*top5_listings, sep='\\n')"
      ],
      "metadata": {
        "id": "BqgVzEg51h1p",
        "colab": {
          "base_uri": "https://localhost:8080/"
        },
        "outputId": "f8a629a4-07d2-409d-af9c-0e36b19e4b6a"
      },
      "execution_count": 35,
      "outputs": [
        {
          "output_type": "stream",
          "name": "stdout",
          "text": [
            "{'_id': 7981341, 'name': 'Couch for the Night', 'property_type': 'Apartment', 'room_type': 'Shared room', 'accommodates': 1, 'beds': 1.0, 'amenities': ['Wireless Internet', 'Air conditioning', 'Kitchen', 'Doorman', 'Elevator in building', 'Smoke detector'], 'price': 128.0, 'text': 'Just renting out my couch for the night'}\n",
            "{'_id': 8064530, 'name': 'Apartment near Central park', 'property_type': 'Apartment', 'room_type': 'Shared room', 'accommodates': 2, 'beds': 2.0, 'amenities': ['TV', 'Internet', 'Wireless Internet', 'Air conditioning', 'Kitchen', 'Doorman', 'Elevator in building', 'Hot tub', 'Buzzer/wireless intercom', 'Heating', 'Smoke detector', 'Carbon monoxide detector', 'Fire extinguisher', 'translation missing: en.hosting_amenity_49', 'translation missing: en.hosting_amenity_50'], 'price': 96.0, 'text': 'Very nice & bright apartment  1 bedroom 1 bathroom, super clean very stylish and quiet ,  close to shopping area such as 5 ave , A few min walk  to Central Park. all Bus and train around. this price is share apartment for entire apartment can discuss **Non smoking please'}\n",
            "{'_id': 1906596, 'name': 'Comfy Couch for One - Three Nights', 'property_type': 'Apartment', 'room_type': 'Shared room', 'accommodates': 1, 'beds': 1.0, 'amenities': ['Internet', 'Wireless Internet', 'Kitchen', 'Doorman', 'Elevator in building', 'Heating', 'Washer', 'Dryer'], 'price': 80.0, 'text': \"I'm offering a one or two night stay on my very comfy couch Two bedroom high rise apartment. Beautiful view of the city, three blocks from the train directly to the heart of Times Square in 20mins. Small Pomeranian on premises. Will only book 3 nights or less.\"}\n",
            "{'_id': 11575453, 'name': 'Village/Soho Studio APT Share Downtown By NYU', 'property_type': 'Apartment', 'room_type': 'Shared room', 'accommodates': 1, 'beds': 1.0, 'amenities': ['TV', 'Internet', 'Wireless Internet', 'Air conditioning', 'Kitchen', 'Heating', 'Smoke detector', 'Carbon monoxide detector', 'Fire extinguisher', 'Essentials', 'Shampoo', 'Hair dryer', 'translation missing: en.hosting_amenity_49', 'translation missing: en.hosting_amenity_50'], 'price': 80.0, 'text': 'My apartment is one flight up right in the heart of greenwich village by NYU,its a great location you have Washington Square park right up the street,the coolest bars and restaurants right by the apartment,SOHO is a few blocks away,This is a studio share you will share one room that i have seperated with divider this is not a private room,there will be another person sharing the same studio apt room i do have a private bathroom and shower in here.'}\n",
            "{'_id': 13379635, 'name': 'Midtown East Great location', 'property_type': 'Apartment', 'room_type': 'Shared room', 'accommodates': 2, 'beds': 1.0, 'amenities': ['Wireless Internet', 'Smoke detector', 'Shampoo', 'Hangers', 'Hair dryer', 'Laptop friendly workspace', 'translation missing: en.hosting_amenity_49', 'translation missing: en.hosting_amenity_50'], 'price': 64.0, 'text': 'My place is close to walking distance to \"6, N, R\" train, Empire State Bldg, UN, Baruch, SVA & NYU, Starbucks. You’ll love my place because of Convenience & price, many restaurants.'}\n"
          ]
        }
      ]
    },
    {
      "cell_type": "markdown",
      "source": [
        "# 3."
      ],
      "metadata": {
        "id": "eVF35zJV1rpr"
      }
    },
    {
      "cell_type": "markdown",
      "source": [
        "#### init state"
      ],
      "metadata": {
        "id": "wRahhjliPhOr"
      }
    },
    {
      "cell_type": "code",
      "source": [
        "for listing in collection.find({'property_type': 'Loft'}, {'_id': 1, 'amenities': 1}):\n",
        "    print(listing)"
      ],
      "metadata": {
        "id": "uVZOecTfPkRD",
        "colab": {
          "base_uri": "https://localhost:8080/"
        },
        "outputId": "b6b0cfe4-bdbf-4bec-80ef-90b8ff68e7ed"
      },
      "execution_count": 31,
      "outputs": [
        {
          "output_type": "stream",
          "name": "stdout",
          "text": [
            "{'_id': 7858169, 'amenities': ['Internet', 'Wireless Internet', 'Air conditioning', 'Kitchen', 'Elevator in building', 'Buzzer/wireless intercom', 'Heating', 'Smoke detector', 'Carbon monoxide detector', 'Essentials']}\n",
            "{'_id': 13309763, 'amenities': ['TV', 'Cable TV', 'Internet', 'Wireless Internet', 'Air conditioning', 'Kitchen', 'Breakfast', 'Elevator in building', 'Buzzer/wireless intercom', 'Heating', 'Family/kid friendly', 'Washer', 'Dryer', 'Smoke detector', 'Carbon monoxide detector', 'First aid kit', 'Fire extinguisher', 'Essentials', 'Shampoo', 'Hangers', 'Hair dryer', 'Iron', 'Laptop friendly workspace']}\n",
            "{'_id': 15393322, 'amenities': ['TV', 'Internet', 'Wireless Internet', 'Air conditioning', 'Kitchen', 'Pets allowed', 'Elevator in building', 'Heating', 'Family/kid friendly', 'Washer', 'Dryer', 'Smoke detector', 'Essentials', 'Shampoo', 'Hangers', 'Hair dryer', 'Iron', 'Laptop friendly workspace']}\n",
            "{'_id': 14857830, 'amenities': ['TV', 'Internet', 'Wireless Internet', 'Air conditioning', 'Kitchen', 'Elevator in building', 'Heating', 'Washer', 'Dryer', 'Carbon monoxide detector', 'Essentials', 'Shampoo', 'Lock on bedroom door', 'Hangers', 'Hair dryer', 'Iron', 'translation missing: en.hosting_amenity_49', 'translation missing: en.hosting_amenity_50']}\n",
            "{'_id': 7648634, 'amenities': ['TV', 'Internet', 'Wireless Internet', 'Air conditioning', 'Kitchen', 'Heating', 'Smoke detector', 'Carbon monoxide detector', 'Fire extinguisher', 'Essentials', 'Shampoo', 'Hangers', 'Hair dryer', 'Iron', 'translation missing: en.hosting_amenity_49', 'translation missing: en.hosting_amenity_50']}\n",
            "{'_id': 15872852, 'amenities': ['TV', 'Wireless Internet', 'Air conditioning', 'Kitchen', 'Heating', 'Smoke detector', 'Carbon monoxide detector', 'Essentials', 'Lock on bedroom door', 'Hangers', 'Hair dryer', 'Iron', 'Laptop friendly workspace', 'translation missing: en.hosting_amenity_49', 'translation missing: en.hosting_amenity_50']}\n",
            "{'_id': 3530517, 'amenities': ['TV', 'Cable TV', 'Internet', 'Wireless Internet', 'Air conditioning', 'Kitchen', 'Breakfast', 'Buzzer/wireless intercom', 'Heating', 'Smoke detector', 'Carbon monoxide detector', 'First aid kit', 'Safety card', 'Fire extinguisher', 'Essentials', 'Shampoo', '24-hour check-in', 'Hangers', 'Hair dryer', 'Iron', 'Laptop friendly workspace', 'translation missing: en.hosting_amenity_49', 'translation missing: en.hosting_amenity_50', 'Self Check-In', 'Lockbox']}\n",
            "{'_id': 16363434, 'amenities': ['TV', 'Cable TV', 'Internet', 'Wireless Internet', 'Air conditioning', 'Kitchen', 'Heating', 'Family/kid friendly', 'Washer', 'Dryer', 'Smoke detector', 'Carbon monoxide detector', 'Fire extinguisher', 'Essentials', 'Hangers', 'Iron']}\n",
            "{'_id': 14824160, 'amenities': ['Wireless Internet', 'Air conditioning', 'Kitchen', 'Pets allowed', 'Heating', 'Family/kid friendly', 'Suitable for events', 'Smoke detector', 'Carbon monoxide detector', 'First aid kit', 'Safety card', 'Fire extinguisher', 'Essentials', 'Laptop friendly workspace', 'translation missing: en.hosting_amenity_50']}\n",
            "{'_id': 12088888, 'amenities': ['TV', 'Cable TV', 'Internet', 'Wireless Internet', 'Air conditioning', 'Kitchen', 'Buzzer/wireless intercom', 'Heating', 'Family/kid friendly', 'Washer', 'Dryer', 'Smoke detector', 'Essentials', 'Hangers', 'Hair dryer', 'Iron', 'Laptop friendly workspace']}\n",
            "{'_id': 1294438, 'amenities': ['Internet', 'Wireless Internet', 'Air conditioning', 'Kitchen', 'Buzzer/wireless intercom', 'Heating', 'Suitable for events', 'Smoke detector', 'translation missing: en.hosting_amenity_49', 'translation missing: en.hosting_amenity_50']}\n",
            "{'_id': 13995614, 'amenities': ['TV', 'Wireless Internet', 'Air conditioning', 'Kitchen', 'Smoking allowed', 'Indoor fireplace', 'Family/kid friendly', 'Smoke detector', 'Carbon monoxide detector', 'Essentials', 'Shampoo', 'Hangers', 'Hair dryer', 'Laptop friendly workspace', 'translation missing: en.hosting_amenity_50']}\n",
            "{'_id': 522081, 'amenities': ['Internet', 'Wireless Internet', 'Air conditioning', 'Kitchen', 'Pets live on this property', 'Dog(s)', 'Elevator in building', 'Hot tub', 'Buzzer/wireless intercom', 'Heating', 'Family/kid friendly', 'Washer', 'Dryer', 'Smoke detector', 'Carbon monoxide detector', 'First aid kit', 'Fire extinguisher', 'Essentials', 'Shampoo', 'Hangers', 'Hair dryer', 'Iron', 'Laptop friendly workspace', 'translation missing: en.hosting_amenity_50']}\n"
          ]
        }
      ]
    },
    {
      "cell_type": "markdown",
      "source": [
        "### a. Update the value of ‘amenities’ to [‘Internet’, ‘Shampoo’] for documents in the collection whose ‘property_type’ is ‘Loft’.\n"
      ],
      "metadata": {
        "id": "ig8oGobo1s6-"
      }
    },
    {
      "cell_type": "code",
      "source": [
        "# ============= EDIT HERE =============\n",
        "\n",
        "collection.update_many(\n",
        "    {\"property_type\": \"Loft\"},\n",
        "    {\"$set\": {\"amenities\": ['Internet', 'Shampoo']}}\n",
        ")\n",
        "\n",
        "# =====================================\n",
        "for listing in collection.find({'property_type': 'Loft'}, {'_id': 1, 'amenities': 1}):\n",
        "    print(listing)"
      ],
      "metadata": {
        "id": "z8QnT1VX1hzs",
        "colab": {
          "base_uri": "https://localhost:8080/"
        },
        "outputId": "f6420055-f6f9-46f8-b704-0e5f0b50dcaf"
      },
      "execution_count": 32,
      "outputs": [
        {
          "output_type": "stream",
          "name": "stdout",
          "text": [
            "{'_id': 7858169, 'amenities': ['Internet', 'Shampoo']}\n",
            "{'_id': 13309763, 'amenities': ['Internet', 'Shampoo']}\n",
            "{'_id': 15393322, 'amenities': ['Internet', 'Shampoo']}\n",
            "{'_id': 14857830, 'amenities': ['Internet', 'Shampoo']}\n",
            "{'_id': 7648634, 'amenities': ['Internet', 'Shampoo']}\n",
            "{'_id': 15872852, 'amenities': ['Internet', 'Shampoo']}\n",
            "{'_id': 3530517, 'amenities': ['Internet', 'Shampoo']}\n",
            "{'_id': 16363434, 'amenities': ['Internet', 'Shampoo']}\n",
            "{'_id': 14824160, 'amenities': ['Internet', 'Shampoo']}\n",
            "{'_id': 12088888, 'amenities': ['Internet', 'Shampoo']}\n",
            "{'_id': 1294438, 'amenities': ['Internet', 'Shampoo']}\n",
            "{'_id': 13995614, 'amenities': ['Internet', 'Shampoo']}\n",
            "{'_id': 522081, 'amenities': ['Internet', 'Shampoo']}\n"
          ]
        }
      ]
    },
    {
      "cell_type": "markdown",
      "source": [
        "### b. Add the element ‘Heating’ to the list of ‘amenities’ for the documents in the collection whose ‘property_type’ is ‘Loft.\n"
      ],
      "metadata": {
        "id": "XHUxVsuj161X"
      }
    },
    {
      "cell_type": "code",
      "source": [
        "# ============= EDIT HERE =============\n",
        "\n",
        "collection.update_many(\n",
        "    {\"property_type\": \"Loft\"},\n",
        "    {\"$push\": {\"amenities\": \"Heating\"}}\n",
        ")\n",
        "\n",
        "# =====================================\n",
        "for listing in collection.find({'property_type': 'Loft'}, {'_id': 1, 'amenities': 1}):\n",
        "    print(listing)"
      ],
      "metadata": {
        "id": "7rTMzMtz1hxX",
        "colab": {
          "base_uri": "https://localhost:8080/"
        },
        "outputId": "acf64d81-1104-4006-cf7f-ff5c11c52cd0"
      },
      "execution_count": 33,
      "outputs": [
        {
          "output_type": "stream",
          "name": "stdout",
          "text": [
            "{'_id': 7858169, 'amenities': ['Internet', 'Shampoo', 'Heating']}\n",
            "{'_id': 13309763, 'amenities': ['Internet', 'Shampoo', 'Heating']}\n",
            "{'_id': 15393322, 'amenities': ['Internet', 'Shampoo', 'Heating']}\n",
            "{'_id': 14857830, 'amenities': ['Internet', 'Shampoo', 'Heating']}\n",
            "{'_id': 7648634, 'amenities': ['Internet', 'Shampoo', 'Heating']}\n",
            "{'_id': 15872852, 'amenities': ['Internet', 'Shampoo', 'Heating']}\n",
            "{'_id': 3530517, 'amenities': ['Internet', 'Shampoo', 'Heating']}\n",
            "{'_id': 16363434, 'amenities': ['Internet', 'Shampoo', 'Heating']}\n",
            "{'_id': 14824160, 'amenities': ['Internet', 'Shampoo', 'Heating']}\n",
            "{'_id': 12088888, 'amenities': ['Internet', 'Shampoo', 'Heating']}\n",
            "{'_id': 1294438, 'amenities': ['Internet', 'Shampoo', 'Heating']}\n",
            "{'_id': 13995614, 'amenities': ['Internet', 'Shampoo', 'Heating']}\n",
            "{'_id': 522081, 'amenities': ['Internet', 'Shampoo', 'Heating']}\n"
          ]
        }
      ]
    },
    {
      "cell_type": "markdown",
      "source": [
        "# Make sure to save both the code and output values prior to submission.\n",
        "# You must delete your CONNECTION_STRING before submitting."
      ],
      "metadata": {
        "id": "y36TfRybSRg5"
      }
    }
  ]
}