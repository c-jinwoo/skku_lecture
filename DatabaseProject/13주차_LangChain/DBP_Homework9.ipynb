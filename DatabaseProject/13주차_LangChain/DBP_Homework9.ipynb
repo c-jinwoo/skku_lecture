{
  "nbformat": 4,
  "nbformat_minor": 0,
  "metadata": {
    "colab": {
      "provenance": []
    },
    "kernelspec": {
      "name": "python3",
      "display_name": "Python 3"
    },
    "language_info": {
      "name": "python"
    }
  },
  "cells": [
    {
      "cell_type": "markdown",
      "source": [
        "# Database Project (SWE3033) (Fall 2023)\n",
        "# Homework #9 (50pts, Due date: 11/29)"
      ],
      "metadata": {
        "id": "nbYWqHwQaEXQ"
      }
    },
    {
      "cell_type": "markdown",
      "source": [
        "**Instruction:** In this homework, we provide you with a jupyter notebook file (DBP_Homework9.ipynb). You should follow the instructions in these documents carefully."
      ],
      "metadata": {
        "id": "zk3KUyFCaUDL"
      }
    },
    {
      "cell_type": "markdown",
      "source": [
        "**Submit two files as follows**:\n",
        "- `DBP_Homework9_StudentID.zip`\n",
        "\t- `DBP_Homework9_StudentID.ipynb`\n",
        "\t- `DBP_Homework9_StudentID.pdf`\n",
        "   "
      ],
      "metadata": {
        "id": "mNHsKkNtaXAK"
      }
    },
    {
      "cell_type": "code",
      "execution_count": null,
      "metadata": {
        "id": "Nyc4TeJwBVBh"
      },
      "outputs": [],
      "source": [
        "!pip install langchain\n",
        "!pip install google-generativeai"
      ]
    },
    {
      "cell_type": "code",
      "source": [],
      "metadata": {
        "id": "rugVGfT1rPUW"
      },
      "execution_count": null,
      "outputs": []
    },
    {
      "cell_type": "markdown",
      "source": [
        "#### Before submitting, you must delete the GOOGLE_API_KEY"
      ],
      "metadata": {
        "id": "6NtV7f2NBoPw"
      }
    },
    {
      "cell_type": "code",
      "source": [
        "GOOGLE_API_KEY = \"YOUR_API_KEY\""
      ],
      "metadata": {
        "id": "PyGy4tkgBc7C"
      },
      "execution_count": null,
      "outputs": []
    },
    {
      "cell_type": "code",
      "source": [
        "from IPython.display import display\n",
        "\n",
        "# No other LLMs are accepted\n",
        "from langchain.llms import GooglePalm\n",
        "from langchain.chat_models.google_palm import ChatGooglePalm\n",
        "from langchain.memory import ConversationBufferMemory\n",
        "from langchain.prompts import (\n",
        "    ChatPromptTemplate,\n",
        "    HumanMessagePromptTemplate,\n",
        "    MessagesPlaceholder,\n",
        "    SystemMessagePromptTemplate,\n",
        ")\n",
        "from langchain import LLMChain"
      ],
      "metadata": {
        "id": "sh6mFQdVBebh"
      },
      "execution_count": null,
      "outputs": []
    },
    {
      "cell_type": "markdown",
      "source": [
        "# 1."
      ],
      "metadata": {
        "id": "5Hq-vGArCMqb"
      }
    },
    {
      "cell_type": "code",
      "source": [
        "llm = ChatGooglePalm(google_api_key=GOOGLE_API_KEY)\n",
        "# ============== EDIT HERE ==================\n",
        "prompt = None\n",
        "memory = None\n",
        "conversation = None\n",
        "# ==========================================="
      ],
      "metadata": {
        "id": "PHUAtUrDaxTu"
      },
      "execution_count": null,
      "outputs": []
    },
    {
      "cell_type": "code",
      "source": [
        "# From now on, each cell will have a conversation with LLM.\n",
        "# One cell per conversation. (5 to 10 conversations)\n",
        "# If you had 8 conversations, there are 8 cells."
      ],
      "metadata": {
        "id": "7075MeSNbEW8"
      },
      "execution_count": null,
      "outputs": []
    },
    {
      "cell_type": "markdown",
      "source": [
        "# 2."
      ],
      "metadata": {
        "id": "L9dIMM-petGC"
      }
    },
    {
      "cell_type": "code",
      "source": [
        "del llm, prompt, memory, conversation"
      ],
      "metadata": {
        "id": "TTfwV0X7g7LF"
      },
      "execution_count": null,
      "outputs": []
    },
    {
      "cell_type": "code",
      "source": [
        "llm = ChatGooglePalm(google_api_key=GOOGLE_API_KEY)\n",
        "# ============== EDIT HERE ==================\n",
        "prompt = None\n",
        "memory = None\n",
        "conversation = None\n",
        "# ==========================================="
      ],
      "metadata": {
        "id": "4g7L2KCTeudi"
      },
      "execution_count": null,
      "outputs": []
    },
    {
      "cell_type": "code",
      "source": [
        "# From now on, each cell will have a conversation with LLM.\n",
        "# One cell per conversation. (5 conversations)"
      ],
      "metadata": {
        "id": "CRoOby1AevoS"
      },
      "execution_count": null,
      "outputs": []
    },
    {
      "cell_type": "markdown",
      "source": [
        "# Make sure to save both the code and output values prior to submission.\n",
        "# You must delete your GOOGLE_API_KEY before submitting."
      ],
      "metadata": {
        "id": "Kw1W7Fa5bYsY"
      }
    }
  ]
}