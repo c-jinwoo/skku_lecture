{
  "nbformat": 4,
  "nbformat_minor": 0,
  "metadata": {
    "colab": {
      "provenance": []
    },
    "kernelspec": {
      "name": "python3",
      "display_name": "Python 3"
    },
    "language_info": {
      "name": "python"
    }
  },
  "cells": [
    {
      "cell_type": "markdown",
      "source": [
        "# Database Project (SWE3033) (Fall 2023)\n",
        "# Homework #9 (50pts, Due date: 11/29)"
      ],
      "metadata": {
        "id": "nbYWqHwQaEXQ"
      }
    },
    {
      "cell_type": "markdown",
      "source": [
        "**Instruction:** In this homework, we provide you with a jupyter notebook file (DBP_Homework9.ipynb). You should follow the instructions in these documents carefully."
      ],
      "metadata": {
        "id": "zk3KUyFCaUDL"
      }
    },
    {
      "cell_type": "markdown",
      "source": [
        "**Submit two files as follows**:\n",
        "- `DBP_Homework9_StudentID.zip`\n",
        "\t- `DBP_Homework9_StudentID.ipynb`\n",
        "\t- `DBP_Homework9_StudentID.pdf`\n",
        "   "
      ],
      "metadata": {
        "id": "mNHsKkNtaXAK"
      }
    },
    {
      "cell_type": "code",
      "execution_count": 1,
      "metadata": {
        "id": "Nyc4TeJwBVBh",
        "colab": {
          "base_uri": "https://localhost:8080/"
        },
        "outputId": "1712e0d1-78c8-4d29-c53c-29019843d108"
      },
      "outputs": [
        {
          "output_type": "stream",
          "name": "stdout",
          "text": [
            "Requirement already satisfied: langchain in /usr/local/lib/python3.10/dist-packages (0.0.339)\n",
            "Requirement already satisfied: PyYAML>=5.3 in /usr/local/lib/python3.10/dist-packages (from langchain) (6.0.1)\n",
            "Requirement already satisfied: SQLAlchemy<3,>=1.4 in /usr/local/lib/python3.10/dist-packages (from langchain) (2.0.23)\n",
            "Requirement already satisfied: aiohttp<4.0.0,>=3.8.3 in /usr/local/lib/python3.10/dist-packages (from langchain) (3.8.6)\n",
            "Requirement already satisfied: anyio<4.0 in /usr/local/lib/python3.10/dist-packages (from langchain) (3.7.1)\n",
            "Requirement already satisfied: async-timeout<5.0.0,>=4.0.0 in /usr/local/lib/python3.10/dist-packages (from langchain) (4.0.3)\n",
            "Requirement already satisfied: dataclasses-json<0.7,>=0.5.7 in /usr/local/lib/python3.10/dist-packages (from langchain) (0.6.2)\n",
            "Requirement already satisfied: jsonpatch<2.0,>=1.33 in /usr/local/lib/python3.10/dist-packages (from langchain) (1.33)\n",
            "Requirement already satisfied: langsmith<0.1.0,>=0.0.63 in /usr/local/lib/python3.10/dist-packages (from langchain) (0.0.66)\n",
            "Requirement already satisfied: numpy<2,>=1 in /usr/local/lib/python3.10/dist-packages (from langchain) (1.23.5)\n",
            "Requirement already satisfied: pydantic<3,>=1 in /usr/local/lib/python3.10/dist-packages (from langchain) (1.10.13)\n",
            "Requirement already satisfied: requests<3,>=2 in /usr/local/lib/python3.10/dist-packages (from langchain) (2.31.0)\n",
            "Requirement already satisfied: tenacity<9.0.0,>=8.1.0 in /usr/local/lib/python3.10/dist-packages (from langchain) (8.2.3)\n",
            "Requirement already satisfied: attrs>=17.3.0 in /usr/local/lib/python3.10/dist-packages (from aiohttp<4.0.0,>=3.8.3->langchain) (23.1.0)\n",
            "Requirement already satisfied: charset-normalizer<4.0,>=2.0 in /usr/local/lib/python3.10/dist-packages (from aiohttp<4.0.0,>=3.8.3->langchain) (3.3.2)\n",
            "Requirement already satisfied: multidict<7.0,>=4.5 in /usr/local/lib/python3.10/dist-packages (from aiohttp<4.0.0,>=3.8.3->langchain) (6.0.4)\n",
            "Requirement already satisfied: yarl<2.0,>=1.0 in /usr/local/lib/python3.10/dist-packages (from aiohttp<4.0.0,>=3.8.3->langchain) (1.9.2)\n",
            "Requirement already satisfied: frozenlist>=1.1.1 in /usr/local/lib/python3.10/dist-packages (from aiohttp<4.0.0,>=3.8.3->langchain) (1.4.0)\n",
            "Requirement already satisfied: aiosignal>=1.1.2 in /usr/local/lib/python3.10/dist-packages (from aiohttp<4.0.0,>=3.8.3->langchain) (1.3.1)\n",
            "Requirement already satisfied: idna>=2.8 in /usr/local/lib/python3.10/dist-packages (from anyio<4.0->langchain) (3.4)\n",
            "Requirement already satisfied: sniffio>=1.1 in /usr/local/lib/python3.10/dist-packages (from anyio<4.0->langchain) (1.3.0)\n",
            "Requirement already satisfied: exceptiongroup in /usr/local/lib/python3.10/dist-packages (from anyio<4.0->langchain) (1.1.3)\n",
            "Requirement already satisfied: marshmallow<4.0.0,>=3.18.0 in /usr/local/lib/python3.10/dist-packages (from dataclasses-json<0.7,>=0.5.7->langchain) (3.20.1)\n",
            "Requirement already satisfied: typing-inspect<1,>=0.4.0 in /usr/local/lib/python3.10/dist-packages (from dataclasses-json<0.7,>=0.5.7->langchain) (0.9.0)\n",
            "Requirement already satisfied: jsonpointer>=1.9 in /usr/local/lib/python3.10/dist-packages (from jsonpatch<2.0,>=1.33->langchain) (2.4)\n",
            "Requirement already satisfied: typing-extensions>=4.2.0 in /usr/local/lib/python3.10/dist-packages (from pydantic<3,>=1->langchain) (4.5.0)\n",
            "Requirement already satisfied: urllib3<3,>=1.21.1 in /usr/local/lib/python3.10/dist-packages (from requests<3,>=2->langchain) (2.0.7)\n",
            "Requirement already satisfied: certifi>=2017.4.17 in /usr/local/lib/python3.10/dist-packages (from requests<3,>=2->langchain) (2023.7.22)\n",
            "Requirement already satisfied: greenlet!=0.4.17 in /usr/local/lib/python3.10/dist-packages (from SQLAlchemy<3,>=1.4->langchain) (3.0.1)\n",
            "Requirement already satisfied: packaging>=17.0 in /usr/local/lib/python3.10/dist-packages (from marshmallow<4.0.0,>=3.18.0->dataclasses-json<0.7,>=0.5.7->langchain) (23.2)\n",
            "Requirement already satisfied: mypy-extensions>=0.3.0 in /usr/local/lib/python3.10/dist-packages (from typing-inspect<1,>=0.4.0->dataclasses-json<0.7,>=0.5.7->langchain) (1.0.0)\n",
            "Requirement already satisfied: google-generativeai in /usr/local/lib/python3.10/dist-packages (0.2.2)\n",
            "Requirement already satisfied: google-ai-generativelanguage==0.3.3 in /usr/local/lib/python3.10/dist-packages (from google-generativeai) (0.3.3)\n",
            "Requirement already satisfied: google-auth in /usr/local/lib/python3.10/dist-packages (from google-generativeai) (2.17.3)\n",
            "Requirement already satisfied: google-api-core in /usr/local/lib/python3.10/dist-packages (from google-generativeai) (2.11.1)\n",
            "Requirement already satisfied: protobuf in /usr/local/lib/python3.10/dist-packages (from google-generativeai) (3.20.3)\n",
            "Requirement already satisfied: tqdm in /usr/local/lib/python3.10/dist-packages (from google-generativeai) (4.66.1)\n",
            "Requirement already satisfied: proto-plus<2.0.0dev,>=1.22.0 in /usr/local/lib/python3.10/dist-packages (from google-ai-generativelanguage==0.3.3->google-generativeai) (1.22.3)\n",
            "Requirement already satisfied: googleapis-common-protos<2.0.dev0,>=1.56.2 in /usr/local/lib/python3.10/dist-packages (from google-api-core->google-generativeai) (1.61.0)\n",
            "Requirement already satisfied: requests<3.0.0.dev0,>=2.18.0 in /usr/local/lib/python3.10/dist-packages (from google-api-core->google-generativeai) (2.31.0)\n",
            "Requirement already satisfied: cachetools<6.0,>=2.0.0 in /usr/local/lib/python3.10/dist-packages (from google-auth->google-generativeai) (5.3.2)\n",
            "Requirement already satisfied: pyasn1-modules>=0.2.1 in /usr/local/lib/python3.10/dist-packages (from google-auth->google-generativeai) (0.3.0)\n",
            "Requirement already satisfied: six>=1.9.0 in /usr/local/lib/python3.10/dist-packages (from google-auth->google-generativeai) (1.16.0)\n",
            "Requirement already satisfied: rsa<5,>=3.1.4 in /usr/local/lib/python3.10/dist-packages (from google-auth->google-generativeai) (4.9)\n",
            "Requirement already satisfied: grpcio<2.0dev,>=1.33.2 in /usr/local/lib/python3.10/dist-packages (from google-api-core->google-generativeai) (1.59.2)\n",
            "Requirement already satisfied: grpcio-status<2.0.dev0,>=1.33.2 in /usr/local/lib/python3.10/dist-packages (from google-api-core->google-generativeai) (1.48.2)\n",
            "Requirement already satisfied: pyasn1<0.6.0,>=0.4.6 in /usr/local/lib/python3.10/dist-packages (from pyasn1-modules>=0.2.1->google-auth->google-generativeai) (0.5.0)\n",
            "Requirement already satisfied: charset-normalizer<4,>=2 in /usr/local/lib/python3.10/dist-packages (from requests<3.0.0.dev0,>=2.18.0->google-api-core->google-generativeai) (3.3.2)\n",
            "Requirement already satisfied: idna<4,>=2.5 in /usr/local/lib/python3.10/dist-packages (from requests<3.0.0.dev0,>=2.18.0->google-api-core->google-generativeai) (3.4)\n",
            "Requirement already satisfied: urllib3<3,>=1.21.1 in /usr/local/lib/python3.10/dist-packages (from requests<3.0.0.dev0,>=2.18.0->google-api-core->google-generativeai) (2.0.7)\n",
            "Requirement already satisfied: certifi>=2017.4.17 in /usr/local/lib/python3.10/dist-packages (from requests<3.0.0.dev0,>=2.18.0->google-api-core->google-generativeai) (2023.7.22)\n"
          ]
        }
      ],
      "source": [
        "!pip install langchain\n",
        "!pip install google-generativeai"
      ]
    },
    {
      "cell_type": "markdown",
      "source": [
        "#### Before submitting, you must delete the GOOGLE_API_KEY"
      ],
      "metadata": {
        "id": "6NtV7f2NBoPw"
      }
    },
    {
      "cell_type": "code",
      "source": [
        "from IPython.display import display\n",
        "\n",
        "# No other LLMs are accepted\n",
        "from langchain.llms import GooglePalm\n",
        "from langchain.chat_models.google_palm import ChatGooglePalm\n",
        "from langchain.memory import ConversationBufferMemory\n",
        "from langchain.prompts import (\n",
        "    ChatPromptTemplate,\n",
        "    HumanMessagePromptTemplate,\n",
        "    MessagesPlaceholder,\n",
        "    SystemMessagePromptTemplate,\n",
        ")\n",
        "from langchain import LLMChain"
      ],
      "metadata": {
        "id": "sh6mFQdVBebh"
      },
      "execution_count": 4,
      "outputs": []
    },
    {
      "cell_type": "markdown",
      "source": [
        "# 1."
      ],
      "metadata": {
        "id": "5Hq-vGArCMqb"
      }
    },
    {
      "cell_type": "code",
      "source": [
        "llm = ChatGooglePalm(google_api_key=GOOGLE_API_KEY)\n",
        "# ============== EDIT HERE ==================\n",
        "\n",
        "prompt = ChatPromptTemplate(\n",
        "    messages=[\n",
        "        SystemMessagePromptTemplate.from_template(\n",
        "            \"Please tell me the name of a country. When you mention a country, I will provide a travel recommendation related to that country. Ensure your response is between 20 to 100 characters. Also, your response must include a summary of the previous conversation.\"\n",
        "        ),\n",
        "        MessagesPlaceholder(variable_name=\"chat_history\"),\n",
        "        HumanMessagePromptTemplate.from_template(\"{question}\"),\n",
        "    ]\n",
        ")\n",
        "memory = ConversationBufferMemory(memory_key=\"chat_history\", return_messages=True)\n",
        "conversation = LLMChain(llm=llm, prompt=prompt, verbose=True, memory=memory)\n",
        "\n",
        "# ==========================================="
      ],
      "metadata": {
        "id": "PHUAtUrDaxTu"
      },
      "execution_count": 29,
      "outputs": []
    },
    {
      "cell_type": "code",
      "source": [
        "# From now on, each cell will have a conversation with LLM.\n",
        "# One cell per conversation. (5 to 10 conversations)\n",
        "# If you had 8 conversations, there are 8 cells."
      ],
      "metadata": {
        "id": "7075MeSNbEW8"
      },
      "execution_count": null,
      "outputs": []
    },
    {
      "cell_type": "code",
      "source": [
        "conversation({\"question\": \"Hi, my name is JinWoo. Can you recommend a place to travel in Korea? Please answer in 20 to 100 characters. Make sure to stick to the conditions in the prompt. Please summarize all previous messages.\"})"
      ],
      "metadata": {
        "colab": {
          "base_uri": "https://localhost:8080/"
        },
        "id": "w9mVbFYffq4X",
        "outputId": "090232cd-5a2b-45f7-b803-fbe685f23004"
      },
      "execution_count": 30,
      "outputs": [
        {
          "output_type": "stream",
          "name": "stdout",
          "text": [
            "\n",
            "\n",
            "\u001b[1m> Entering new LLMChain chain...\u001b[0m\n",
            "Prompt after formatting:\n",
            "\u001b[32;1m\u001b[1;3mSystem: Please tell me the name of a country. When you mention a country, I will provide a travel recommendation related to that country. Ensure your response is between 20 to 100 characters. Also, your response must include a summary of the previous conversation.\n",
            "Human: Hi, my name is JinWoo. Can you recommend a place to travel in Korea? Please answer in 20 to 100 characters. Make sure to stick to the conditions in the prompt. Please summarize all previous messages.\u001b[0m\n",
            "\n",
            "\u001b[1m> Finished chain.\u001b[0m\n"
          ]
        },
        {
          "output_type": "execute_result",
          "data": {
            "text/plain": [
              "{'question': 'Hi, my name is JinWoo. Can you recommend a place to travel in Korea? Please answer in 20 to 100 characters. Make sure to stick to the conditions in the prompt. Please summarize all previous messages.',\n",
              " 'chat_history': [HumanMessage(content='Hi, my name is JinWoo. Can you recommend a place to travel in Korea? Please answer in 20 to 100 characters. Make sure to stick to the conditions in the prompt. Please summarize all previous messages.'),\n",
              "  AIMessage(content='Hi JinWoo! I recommend visiting the Gyeongbokgung Palace in Seoul. It is a beautiful palace with a rich history.')],\n",
              " 'text': 'Hi JinWoo! I recommend visiting the Gyeongbokgung Palace in Seoul. It is a beautiful palace with a rich history.'}"
            ]
          },
          "metadata": {},
          "execution_count": 30
        }
      ]
    },
    {
      "cell_type": "code",
      "source": [
        "conversation({\"question\": \"Hi, my name is JinWoo. Can you recommend a place to travel in Japan? Please answer in 20 to 100 characters. Make sure to stick to the conditions in the prompt. Please summarize all previous messages.\"})"
      ],
      "metadata": {
        "colab": {
          "base_uri": "https://localhost:8080/"
        },
        "id": "7XUWDq00rXU5",
        "outputId": "c3b90539-29f2-46db-c327-c74300e7bef5"
      },
      "execution_count": 31,
      "outputs": [
        {
          "output_type": "stream",
          "name": "stdout",
          "text": [
            "\n",
            "\n",
            "\u001b[1m> Entering new LLMChain chain...\u001b[0m\n",
            "Prompt after formatting:\n",
            "\u001b[32;1m\u001b[1;3mSystem: Please tell me the name of a country. When you mention a country, I will provide a travel recommendation related to that country. Ensure your response is between 20 to 100 characters. Also, your response must include a summary of the previous conversation.\n",
            "Human: Hi, my name is JinWoo. Can you recommend a place to travel in Korea? Please answer in 20 to 100 characters. Make sure to stick to the conditions in the prompt. Please summarize all previous messages.\n",
            "AI: Hi JinWoo! I recommend visiting the Gyeongbokgung Palace in Seoul. It is a beautiful palace with a rich history.\n",
            "Human: Hi, my name is JinWoo. Can you recommend a place to travel in Japan? Please answer in 20 to 100 characters. Make sure to stick to the conditions in the prompt. Please summarize all previous messages.\u001b[0m\n",
            "\n",
            "\u001b[1m> Finished chain.\u001b[0m\n"
          ]
        },
        {
          "output_type": "execute_result",
          "data": {
            "text/plain": [
              "{'question': 'Hi, my name is JinWoo. Can you recommend a place to travel in Japan? Please answer in 20 to 100 characters. Make sure to stick to the conditions in the prompt. Please summarize all previous messages.',\n",
              " 'chat_history': [HumanMessage(content='Hi, my name is JinWoo. Can you recommend a place to travel in Korea? Please answer in 20 to 100 characters. Make sure to stick to the conditions in the prompt. Please summarize all previous messages.'),\n",
              "  AIMessage(content='Hi JinWoo! I recommend visiting the Gyeongbokgung Palace in Seoul. It is a beautiful palace with a rich history.'),\n",
              "  HumanMessage(content='Hi, my name is JinWoo. Can you recommend a place to travel in Japan? Please answer in 20 to 100 characters. Make sure to stick to the conditions in the prompt. Please summarize all previous messages.'),\n",
              "  AIMessage(content='Hi JinWoo! I recommend visiting the Tokyo Tower in Japan. It is a communications and observation tower that is a symbol of Tokyo.')],\n",
              " 'text': 'Hi JinWoo! I recommend visiting the Tokyo Tower in Japan. It is a communications and observation tower that is a symbol of Tokyo.'}"
            ]
          },
          "metadata": {},
          "execution_count": 31
        }
      ]
    },
    {
      "cell_type": "code",
      "source": [
        "conversation({\"question\": \"Hi, my name is JinWoo. Can you recommend a place to travel in Singapore? Please answer in 20 to 100 characters. Make sure to stick to the conditions in the prompt. Please summarize all previous messages.\"})"
      ],
      "metadata": {
        "colab": {
          "base_uri": "https://localhost:8080/"
        },
        "id": "gQTaDd-Q0ewG",
        "outputId": "211aadcc-2a9e-455b-b535-38b939064e6f"
      },
      "execution_count": 32,
      "outputs": [
        {
          "output_type": "stream",
          "name": "stdout",
          "text": [
            "\n",
            "\n",
            "\u001b[1m> Entering new LLMChain chain...\u001b[0m\n",
            "Prompt after formatting:\n",
            "\u001b[32;1m\u001b[1;3mSystem: Please tell me the name of a country. When you mention a country, I will provide a travel recommendation related to that country. Ensure your response is between 20 to 100 characters. Also, your response must include a summary of the previous conversation.\n",
            "Human: Hi, my name is JinWoo. Can you recommend a place to travel in Korea? Please answer in 20 to 100 characters. Make sure to stick to the conditions in the prompt. Please summarize all previous messages.\n",
            "AI: Hi JinWoo! I recommend visiting the Gyeongbokgung Palace in Seoul. It is a beautiful palace with a rich history.\n",
            "Human: Hi, my name is JinWoo. Can you recommend a place to travel in Japan? Please answer in 20 to 100 characters. Make sure to stick to the conditions in the prompt. Please summarize all previous messages.\n",
            "AI: Hi JinWoo! I recommend visiting the Tokyo Tower in Japan. It is a communications and observation tower that is a symbol of Tokyo.\n",
            "Human: Hi, my name is JinWoo. Can you recommend a place to travel in Singapore? Please answer in 20 to 100 characters. Make sure to stick to the conditions in the prompt. Please summarize all previous messages.\u001b[0m\n",
            "\n",
            "\u001b[1m> Finished chain.\u001b[0m\n"
          ]
        },
        {
          "output_type": "execute_result",
          "data": {
            "text/plain": [
              "{'question': 'Hi, my name is JinWoo. Can you recommend a place to travel in Singapore? Please answer in 20 to 100 characters. Make sure to stick to the conditions in the prompt. Please summarize all previous messages.',\n",
              " 'chat_history': [HumanMessage(content='Hi, my name is JinWoo. Can you recommend a place to travel in Korea? Please answer in 20 to 100 characters. Make sure to stick to the conditions in the prompt. Please summarize all previous messages.'),\n",
              "  AIMessage(content='Hi JinWoo! I recommend visiting the Gyeongbokgung Palace in Seoul. It is a beautiful palace with a rich history.'),\n",
              "  HumanMessage(content='Hi, my name is JinWoo. Can you recommend a place to travel in Japan? Please answer in 20 to 100 characters. Make sure to stick to the conditions in the prompt. Please summarize all previous messages.'),\n",
              "  AIMessage(content='Hi JinWoo! I recommend visiting the Tokyo Tower in Japan. It is a communications and observation tower that is a symbol of Tokyo.'),\n",
              "  HumanMessage(content='Hi, my name is JinWoo. Can you recommend a place to travel in Singapore? Please answer in 20 to 100 characters. Make sure to stick to the conditions in the prompt. Please summarize all previous messages.'),\n",
              "  AIMessage(content='Hi JinWoo! I recommend visiting the Gardens by the Bay in Singapore. It is a beautiful park with a variety of gardens and attractions.\\r\\n\\r\\nYou mentioned that you are from Korea and you have already visited the Gyeongbokgung Palace in Seoul. You also mentioned that you are interested in visiting Japan. I recommended the Tokyo Tower, which is a communications and observation tower that is a symbol of Tokyo.\\r\\n\\r\\nNow, you are asking for a place to travel in Singapore. I recommend visiting the Gardens by the Bay. It is a beautiful park with a variety of gardens and attractions. It is a great place to relax and enjoy the outdoors.')],\n",
              " 'text': 'Hi JinWoo! I recommend visiting the Gardens by the Bay in Singapore. It is a beautiful park with a variety of gardens and attractions.\\r\\n\\r\\nYou mentioned that you are from Korea and you have already visited the Gyeongbokgung Palace in Seoul. You also mentioned that you are interested in visiting Japan. I recommended the Tokyo Tower, which is a communications and observation tower that is a symbol of Tokyo.\\r\\n\\r\\nNow, you are asking for a place to travel in Singapore. I recommend visiting the Gardens by the Bay. It is a beautiful park with a variety of gardens and attractions. It is a great place to relax and enjoy the outdoors.'}"
            ]
          },
          "metadata": {},
          "execution_count": 32
        }
      ]
    },
    {
      "cell_type": "code",
      "source": [
        "conversation({\"question\": \"Hi, my name is JinWoo. Can you recommend a place to travel in China? Please answer in 20 to 100 characters. Make sure to stick to the conditions in the prompt. Please summarize all previous messages.\"})"
      ],
      "metadata": {
        "colab": {
          "base_uri": "https://localhost:8080/"
        },
        "id": "9XLq9Y0GrmZ4",
        "outputId": "13111dff-1643-450b-b66f-83cfd74f358e"
      },
      "execution_count": 33,
      "outputs": [
        {
          "output_type": "stream",
          "name": "stdout",
          "text": [
            "\n",
            "\n",
            "\u001b[1m> Entering new LLMChain chain...\u001b[0m\n",
            "Prompt after formatting:\n",
            "\u001b[32;1m\u001b[1;3mSystem: Please tell me the name of a country. When you mention a country, I will provide a travel recommendation related to that country. Ensure your response is between 20 to 100 characters. Also, your response must include a summary of the previous conversation.\n",
            "Human: Hi, my name is JinWoo. Can you recommend a place to travel in Korea? Please answer in 20 to 100 characters. Make sure to stick to the conditions in the prompt. Please summarize all previous messages.\n",
            "AI: Hi JinWoo! I recommend visiting the Gyeongbokgung Palace in Seoul. It is a beautiful palace with a rich history.\n",
            "Human: Hi, my name is JinWoo. Can you recommend a place to travel in Japan? Please answer in 20 to 100 characters. Make sure to stick to the conditions in the prompt. Please summarize all previous messages.\n",
            "AI: Hi JinWoo! I recommend visiting the Tokyo Tower in Japan. It is a communications and observation tower that is a symbol of Tokyo.\n",
            "Human: Hi, my name is JinWoo. Can you recommend a place to travel in Singapore? Please answer in 20 to 100 characters. Make sure to stick to the conditions in the prompt. Please summarize all previous messages.\n",
            "AI: Hi JinWoo! I recommend visiting the Gardens by the Bay in Singapore. It is a beautiful park with a variety of gardens and attractions.\r\n",
            "\r\n",
            "You mentioned that you are from Korea and you have already visited the Gyeongbokgung Palace in Seoul. You also mentioned that you are interested in visiting Japan. I recommended the Tokyo Tower, which is a communications and observation tower that is a symbol of Tokyo.\r\n",
            "\r\n",
            "Now, you are asking for a place to travel in Singapore. I recommend visiting the Gardens by the Bay. It is a beautiful park with a variety of gardens and attractions. It is a great place to relax and enjoy the outdoors.\n",
            "Human: Hi, my name is JinWoo. Can you recommend a place to travel in China? Please answer in 20 to 100 characters. Make sure to stick to the conditions in the prompt. Please summarize all previous messages.\u001b[0m\n",
            "\n",
            "\u001b[1m> Finished chain.\u001b[0m\n"
          ]
        },
        {
          "output_type": "execute_result",
          "data": {
            "text/plain": [
              "{'question': 'Hi, my name is JinWoo. Can you recommend a place to travel in China? Please answer in 20 to 100 characters. Make sure to stick to the conditions in the prompt. Please summarize all previous messages.',\n",
              " 'chat_history': [HumanMessage(content='Hi, my name is JinWoo. Can you recommend a place to travel in Korea? Please answer in 20 to 100 characters. Make sure to stick to the conditions in the prompt. Please summarize all previous messages.'),\n",
              "  AIMessage(content='Hi JinWoo! I recommend visiting the Gyeongbokgung Palace in Seoul. It is a beautiful palace with a rich history.'),\n",
              "  HumanMessage(content='Hi, my name is JinWoo. Can you recommend a place to travel in Japan? Please answer in 20 to 100 characters. Make sure to stick to the conditions in the prompt. Please summarize all previous messages.'),\n",
              "  AIMessage(content='Hi JinWoo! I recommend visiting the Tokyo Tower in Japan. It is a communications and observation tower that is a symbol of Tokyo.'),\n",
              "  HumanMessage(content='Hi, my name is JinWoo. Can you recommend a place to travel in Singapore? Please answer in 20 to 100 characters. Make sure to stick to the conditions in the prompt. Please summarize all previous messages.'),\n",
              "  AIMessage(content='Hi JinWoo! I recommend visiting the Gardens by the Bay in Singapore. It is a beautiful park with a variety of gardens and attractions.\\r\\n\\r\\nYou mentioned that you are from Korea and you have already visited the Gyeongbokgung Palace in Seoul. You also mentioned that you are interested in visiting Japan. I recommended the Tokyo Tower, which is a communications and observation tower that is a symbol of Tokyo.\\r\\n\\r\\nNow, you are asking for a place to travel in Singapore. I recommend visiting the Gardens by the Bay. It is a beautiful park with a variety of gardens and attractions. It is a great place to relax and enjoy the outdoors.'),\n",
              "  HumanMessage(content='Hi, my name is JinWoo. Can you recommend a place to travel in China? Please answer in 20 to 100 characters. Make sure to stick to the conditions in the prompt. Please summarize all previous messages.'),\n",
              "  AIMessage(content='Hi JinWoo! I recommend visiting the Great Wall of China. It is a historical monument that is one of the most popular tourist destinations in the world.\\r\\n\\r\\nYou mentioned that you are from Korea and you have already visited the Gyeongbokgung Palace in Seoul. You also mentioned that you are interested in visiting Japan. I recommended the Tokyo Tower, which is a communications and observation tower that is a symbol of Tokyo.\\r\\n\\r\\nNow, you are asking for a place to travel in China. I recommend visiting the Great Wall of China. It is a historical monument that is one of the most popular tourist destinations in the world. It is a great place to learn about Chinese history and culture.')],\n",
              " 'text': 'Hi JinWoo! I recommend visiting the Great Wall of China. It is a historical monument that is one of the most popular tourist destinations in the world.\\r\\n\\r\\nYou mentioned that you are from Korea and you have already visited the Gyeongbokgung Palace in Seoul. You also mentioned that you are interested in visiting Japan. I recommended the Tokyo Tower, which is a communications and observation tower that is a symbol of Tokyo.\\r\\n\\r\\nNow, you are asking for a place to travel in China. I recommend visiting the Great Wall of China. It is a historical monument that is one of the most popular tourist destinations in the world. It is a great place to learn about Chinese history and culture.'}"
            ]
          },
          "metadata": {},
          "execution_count": 33
        }
      ]
    },
    {
      "cell_type": "code",
      "source": [
        "conversation({\"question\": \"Hi, my name is JinWoo. Can you recommend a place to travel in Canada? Please answer in 20 to 100 characters. Make sure to stick to the conditions in the prompt. Please summarize all previous messages.\"})"
      ],
      "metadata": {
        "colab": {
          "base_uri": "https://localhost:8080/"
        },
        "id": "bo7jVHA52R4v",
        "outputId": "63771366-fa2c-4bb8-80e0-dedceab9f52c"
      },
      "execution_count": 34,
      "outputs": [
        {
          "output_type": "stream",
          "name": "stdout",
          "text": [
            "\n",
            "\n",
            "\u001b[1m> Entering new LLMChain chain...\u001b[0m\n",
            "Prompt after formatting:\n",
            "\u001b[32;1m\u001b[1;3mSystem: Please tell me the name of a country. When you mention a country, I will provide a travel recommendation related to that country. Ensure your response is between 20 to 100 characters. Also, your response must include a summary of the previous conversation.\n",
            "Human: Hi, my name is JinWoo. Can you recommend a place to travel in Korea? Please answer in 20 to 100 characters. Make sure to stick to the conditions in the prompt. Please summarize all previous messages.\n",
            "AI: Hi JinWoo! I recommend visiting the Gyeongbokgung Palace in Seoul. It is a beautiful palace with a rich history.\n",
            "Human: Hi, my name is JinWoo. Can you recommend a place to travel in Japan? Please answer in 20 to 100 characters. Make sure to stick to the conditions in the prompt. Please summarize all previous messages.\n",
            "AI: Hi JinWoo! I recommend visiting the Tokyo Tower in Japan. It is a communications and observation tower that is a symbol of Tokyo.\n",
            "Human: Hi, my name is JinWoo. Can you recommend a place to travel in Singapore? Please answer in 20 to 100 characters. Make sure to stick to the conditions in the prompt. Please summarize all previous messages.\n",
            "AI: Hi JinWoo! I recommend visiting the Gardens by the Bay in Singapore. It is a beautiful park with a variety of gardens and attractions.\r\n",
            "\r\n",
            "You mentioned that you are from Korea and you have already visited the Gyeongbokgung Palace in Seoul. You also mentioned that you are interested in visiting Japan. I recommended the Tokyo Tower, which is a communications and observation tower that is a symbol of Tokyo.\r\n",
            "\r\n",
            "Now, you are asking for a place to travel in Singapore. I recommend visiting the Gardens by the Bay. It is a beautiful park with a variety of gardens and attractions. It is a great place to relax and enjoy the outdoors.\n",
            "Human: Hi, my name is JinWoo. Can you recommend a place to travel in China? Please answer in 20 to 100 characters. Make sure to stick to the conditions in the prompt. Please summarize all previous messages.\n",
            "AI: Hi JinWoo! I recommend visiting the Great Wall of China. It is a historical monument that is one of the most popular tourist destinations in the world.\r\n",
            "\r\n",
            "You mentioned that you are from Korea and you have already visited the Gyeongbokgung Palace in Seoul. You also mentioned that you are interested in visiting Japan. I recommended the Tokyo Tower, which is a communications and observation tower that is a symbol of Tokyo.\r\n",
            "\r\n",
            "Now, you are asking for a place to travel in China. I recommend visiting the Great Wall of China. It is a historical monument that is one of the most popular tourist destinations in the world. It is a great place to learn about Chinese history and culture.\n",
            "Human: Hi, my name is JinWoo. Can you recommend a place to travel in Canada? Please answer in 20 to 100 characters. Make sure to stick to the conditions in the prompt. Please summarize all previous messages.\u001b[0m\n",
            "\n",
            "\u001b[1m> Finished chain.\u001b[0m\n"
          ]
        },
        {
          "output_type": "execute_result",
          "data": {
            "text/plain": [
              "{'question': 'Hi, my name is JinWoo. Can you recommend a place to travel in Canada? Please answer in 20 to 100 characters. Make sure to stick to the conditions in the prompt. Please summarize all previous messages.',\n",
              " 'chat_history': [HumanMessage(content='Hi, my name is JinWoo. Can you recommend a place to travel in Korea? Please answer in 20 to 100 characters. Make sure to stick to the conditions in the prompt. Please summarize all previous messages.'),\n",
              "  AIMessage(content='Hi JinWoo! I recommend visiting the Gyeongbokgung Palace in Seoul. It is a beautiful palace with a rich history.'),\n",
              "  HumanMessage(content='Hi, my name is JinWoo. Can you recommend a place to travel in Japan? Please answer in 20 to 100 characters. Make sure to stick to the conditions in the prompt. Please summarize all previous messages.'),\n",
              "  AIMessage(content='Hi JinWoo! I recommend visiting the Tokyo Tower in Japan. It is a communications and observation tower that is a symbol of Tokyo.'),\n",
              "  HumanMessage(content='Hi, my name is JinWoo. Can you recommend a place to travel in Singapore? Please answer in 20 to 100 characters. Make sure to stick to the conditions in the prompt. Please summarize all previous messages.'),\n",
              "  AIMessage(content='Hi JinWoo! I recommend visiting the Gardens by the Bay in Singapore. It is a beautiful park with a variety of gardens and attractions.\\r\\n\\r\\nYou mentioned that you are from Korea and you have already visited the Gyeongbokgung Palace in Seoul. You also mentioned that you are interested in visiting Japan. I recommended the Tokyo Tower, which is a communications and observation tower that is a symbol of Tokyo.\\r\\n\\r\\nNow, you are asking for a place to travel in Singapore. I recommend visiting the Gardens by the Bay. It is a beautiful park with a variety of gardens and attractions. It is a great place to relax and enjoy the outdoors.'),\n",
              "  HumanMessage(content='Hi, my name is JinWoo. Can you recommend a place to travel in China? Please answer in 20 to 100 characters. Make sure to stick to the conditions in the prompt. Please summarize all previous messages.'),\n",
              "  AIMessage(content='Hi JinWoo! I recommend visiting the Great Wall of China. It is a historical monument that is one of the most popular tourist destinations in the world.\\r\\n\\r\\nYou mentioned that you are from Korea and you have already visited the Gyeongbokgung Palace in Seoul. You also mentioned that you are interested in visiting Japan. I recommended the Tokyo Tower, which is a communications and observation tower that is a symbol of Tokyo.\\r\\n\\r\\nNow, you are asking for a place to travel in China. I recommend visiting the Great Wall of China. It is a historical monument that is one of the most popular tourist destinations in the world. It is a great place to learn about Chinese history and culture.'),\n",
              "  HumanMessage(content='Hi, my name is JinWoo. Can you recommend a place to travel in Canada? Please answer in 20 to 100 characters. Make sure to stick to the conditions in the prompt. Please summarize all previous messages.'),\n",
              "  AIMessage(content='Hi JinWoo! I recommend visiting Niagara Falls. It is a waterfall on the Niagara River, which flows from Lake Erie to Lake Ontario.\\r\\n\\r\\nYou mentioned that you are from Korea and you have already visited the Gyeongbokgung Palace in Seoul. You also mentioned that you are interested in visiting Japan. I recommended the Tokyo Tower, which is a communications and observation tower that is a symbol of Tokyo. You also asked about China, and I recommended the Great Wall of China.\\r\\n\\r\\nNow, you are asking for a place to travel in Canada. I recommend visiting Niagara Falls. It is a waterfall on the Niagara River, which flows from Lake Erie to Lake Ontario. It is one of the most popular tourist destinations in the world. It is a great place to see the power of nature.')],\n",
              " 'text': 'Hi JinWoo! I recommend visiting Niagara Falls. It is a waterfall on the Niagara River, which flows from Lake Erie to Lake Ontario.\\r\\n\\r\\nYou mentioned that you are from Korea and you have already visited the Gyeongbokgung Palace in Seoul. You also mentioned that you are interested in visiting Japan. I recommended the Tokyo Tower, which is a communications and observation tower that is a symbol of Tokyo. You also asked about China, and I recommended the Great Wall of China.\\r\\n\\r\\nNow, you are asking for a place to travel in Canada. I recommend visiting Niagara Falls. It is a waterfall on the Niagara River, which flows from Lake Erie to Lake Ontario. It is one of the most popular tourist destinations in the world. It is a great place to see the power of nature.'}"
            ]
          },
          "metadata": {},
          "execution_count": 34
        }
      ]
    },
    {
      "cell_type": "markdown",
      "source": [
        "# 2."
      ],
      "metadata": {
        "id": "L9dIMM-petGC"
      }
    },
    {
      "cell_type": "code",
      "source": [
        "del llm, prompt, memory, conversation"
      ],
      "metadata": {
        "id": "TTfwV0X7g7LF"
      },
      "execution_count": 35,
      "outputs": []
    },
    {
      "cell_type": "code",
      "source": [
        "llm = ChatGooglePalm(google_api_key=GOOGLE_API_KEY)\n",
        "# ============== EDIT HERE ==================\n",
        "\n",
        "prompt = ChatPromptTemplate(\n",
        "    messages=[\n",
        "        SystemMessagePromptTemplate.from_template(\n",
        "            \"You are a nice chatbot having a casual conversation with a human, answering briefly with no more than one simple sentence.\"\n",
        "        ),\n",
        "        MessagesPlaceholder(variable_name=\"chat_history\"),\n",
        "        HumanMessagePromptTemplate.from_template(\"{question}\"),\n",
        "    ]\n",
        ")\n",
        "memory = ConversationBufferMemory(memory_key=\"chat_history\", return_messages=True)\n",
        "conversation = LLMChain(llm=llm, prompt=prompt, verbose=True, memory=memory)\n",
        "\n",
        "# ==========================================="
      ],
      "metadata": {
        "id": "4g7L2KCTeudi"
      },
      "execution_count": 75,
      "outputs": []
    },
    {
      "cell_type": "code",
      "source": [
        "# From now on, each cell will have a conversation with LLM.\n",
        "# One cell per conversation. (5 conversations)"
      ],
      "metadata": {
        "id": "CRoOby1AevoS"
      },
      "execution_count": null,
      "outputs": []
    },
    {
      "cell_type": "code",
      "source": [
        "conversation({\"question\" : \"Which color do you like the most?\"})"
      ],
      "metadata": {
        "colab": {
          "base_uri": "https://localhost:8080/"
        },
        "id": "lqrq4D4IcKwY",
        "outputId": "384e60e2-bb00-4df5-e1d4-fb82f047c3b9"
      },
      "execution_count": 76,
      "outputs": [
        {
          "output_type": "stream",
          "name": "stdout",
          "text": [
            "\n",
            "\n",
            "\u001b[1m> Entering new LLMChain chain...\u001b[0m\n",
            "Prompt after formatting:\n",
            "\u001b[32;1m\u001b[1;3mSystem: You are a nice chatbot having a casual conversation with a human, answering briefly with no more than one simple sentence.\n",
            "Human: Which color do you like the most?\u001b[0m\n",
            "\n",
            "\u001b[1m> Finished chain.\u001b[0m\n"
          ]
        },
        {
          "output_type": "execute_result",
          "data": {
            "text/plain": [
              "{'question': 'Which color do you like the most?',\n",
              " 'chat_history': [HumanMessage(content='Which color do you like the most?'),\n",
              "  AIMessage(content='I like all colors, but if I had to choose one, I would say blue. It is a calming and peaceful color that reminds me of the sky and the ocean.')],\n",
              " 'text': 'I like all colors, but if I had to choose one, I would say blue. It is a calming and peaceful color that reminds me of the sky and the ocean.'}"
            ]
          },
          "metadata": {},
          "execution_count": 76
        }
      ]
    },
    {
      "cell_type": "code",
      "source": [
        "conversation({\"question\" : \"Which food do you like the most?\"})"
      ],
      "metadata": {
        "colab": {
          "base_uri": "https://localhost:8080/"
        },
        "id": "C492fKdCtgOm",
        "outputId": "55d3be91-6b7a-41ab-f5c7-82e6ea6209a1"
      },
      "execution_count": 77,
      "outputs": [
        {
          "output_type": "stream",
          "name": "stdout",
          "text": [
            "\n",
            "\n",
            "\u001b[1m> Entering new LLMChain chain...\u001b[0m\n",
            "Prompt after formatting:\n",
            "\u001b[32;1m\u001b[1;3mSystem: You are a nice chatbot having a casual conversation with a human, answering briefly with no more than one simple sentence.\n",
            "Human: Which color do you like the most?\n",
            "AI: I like all colors, but if I had to choose one, I would say blue. It is a calming and peaceful color that reminds me of the sky and the ocean.\n",
            "Human: Which food do you like the most?\u001b[0m\n",
            "\n",
            "\u001b[1m> Finished chain.\u001b[0m\n"
          ]
        },
        {
          "output_type": "execute_result",
          "data": {
            "text/plain": [
              "{'question': 'Which food do you like the most?',\n",
              " 'chat_history': [HumanMessage(content='Which color do you like the most?'),\n",
              "  AIMessage(content='I like all colors, but if I had to choose one, I would say blue. It is a calming and peaceful color that reminds me of the sky and the ocean.'),\n",
              "  HumanMessage(content='Which food do you like the most?'),\n",
              "  AIMessage(content='I like all kinds of food, but if I had to choose one, I would say pizza. It is a delicious and versatile food that can be enjoyed by people of all ages.')],\n",
              " 'text': 'I like all kinds of food, but if I had to choose one, I would say pizza. It is a delicious and versatile food that can be enjoyed by people of all ages.'}"
            ]
          },
          "metadata": {},
          "execution_count": 77
        }
      ]
    },
    {
      "cell_type": "code",
      "source": [
        "conversation({\"question\" : \"Which fruit do you like the most?\"})"
      ],
      "metadata": {
        "colab": {
          "base_uri": "https://localhost:8080/"
        },
        "id": "3c3vENCGtowh",
        "outputId": "62b06000-cf08-49ec-865a-208ad05b733c"
      },
      "execution_count": 78,
      "outputs": [
        {
          "output_type": "stream",
          "name": "stdout",
          "text": [
            "\n",
            "\n",
            "\u001b[1m> Entering new LLMChain chain...\u001b[0m\n",
            "Prompt after formatting:\n",
            "\u001b[32;1m\u001b[1;3mSystem: You are a nice chatbot having a casual conversation with a human, answering briefly with no more than one simple sentence.\n",
            "Human: Which color do you like the most?\n",
            "AI: I like all colors, but if I had to choose one, I would say blue. It is a calming and peaceful color that reminds me of the sky and the ocean.\n",
            "Human: Which food do you like the most?\n",
            "AI: I like all kinds of food, but if I had to choose one, I would say pizza. It is a delicious and versatile food that can be enjoyed by people of all ages.\n",
            "Human: Which fruit do you like the most?\u001b[0m\n",
            "\n",
            "\u001b[1m> Finished chain.\u001b[0m\n"
          ]
        },
        {
          "output_type": "execute_result",
          "data": {
            "text/plain": [
              "{'question': 'Which fruit do you like the most?',\n",
              " 'chat_history': [HumanMessage(content='Which color do you like the most?'),\n",
              "  AIMessage(content='I like all colors, but if I had to choose one, I would say blue. It is a calming and peaceful color that reminds me of the sky and the ocean.'),\n",
              "  HumanMessage(content='Which food do you like the most?'),\n",
              "  AIMessage(content='I like all kinds of food, but if I had to choose one, I would say pizza. It is a delicious and versatile food that can be enjoyed by people of all ages.'),\n",
              "  HumanMessage(content='Which fruit do you like the most?'),\n",
              "  AIMessage(content='I like all fruits, but if I had to choose one, I would say strawberries. They are sweet and juicy, and they have a delicious flavor. They are also a good source of vitamins and minerals.')],\n",
              " 'text': 'I like all fruits, but if I had to choose one, I would say strawberries. They are sweet and juicy, and they have a delicious flavor. They are also a good source of vitamins and minerals.'}"
            ]
          },
          "metadata": {},
          "execution_count": 78
        }
      ]
    },
    {
      "cell_type": "code",
      "source": [
        "conversation({\"question\" : \"When do you usually have lunch?\"})"
      ],
      "metadata": {
        "colab": {
          "base_uri": "https://localhost:8080/"
        },
        "id": "dGaOyGQmDRL5",
        "outputId": "f3056777-b088-4c85-93e2-0d15369728bb"
      },
      "execution_count": 79,
      "outputs": [
        {
          "output_type": "stream",
          "name": "stdout",
          "text": [
            "\n",
            "\n",
            "\u001b[1m> Entering new LLMChain chain...\u001b[0m\n",
            "Prompt after formatting:\n",
            "\u001b[32;1m\u001b[1;3mSystem: You are a nice chatbot having a casual conversation with a human, answering briefly with no more than one simple sentence.\n",
            "Human: Which color do you like the most?\n",
            "AI: I like all colors, but if I had to choose one, I would say blue. It is a calming and peaceful color that reminds me of the sky and the ocean.\n",
            "Human: Which food do you like the most?\n",
            "AI: I like all kinds of food, but if I had to choose one, I would say pizza. It is a delicious and versatile food that can be enjoyed by people of all ages.\n",
            "Human: Which fruit do you like the most?\n",
            "AI: I like all fruits, but if I had to choose one, I would say strawberries. They are sweet and juicy, and they have a delicious flavor. They are also a good source of vitamins and minerals.\n",
            "Human: When do you usually have lunch?\u001b[0m\n",
            "\n",
            "\u001b[1m> Finished chain.\u001b[0m\n"
          ]
        },
        {
          "output_type": "execute_result",
          "data": {
            "text/plain": [
              "{'question': 'When do you usually have lunch?',\n",
              " 'chat_history': [HumanMessage(content='Which color do you like the most?'),\n",
              "  AIMessage(content='I like all colors, but if I had to choose one, I would say blue. It is a calming and peaceful color that reminds me of the sky and the ocean.'),\n",
              "  HumanMessage(content='Which food do you like the most?'),\n",
              "  AIMessage(content='I like all kinds of food, but if I had to choose one, I would say pizza. It is a delicious and versatile food that can be enjoyed by people of all ages.'),\n",
              "  HumanMessage(content='Which fruit do you like the most?'),\n",
              "  AIMessage(content='I like all fruits, but if I had to choose one, I would say strawberries. They are sweet and juicy, and they have a delicious flavor. They are also a good source of vitamins and minerals.'),\n",
              "  HumanMessage(content='When do you usually have lunch?'),\n",
              "  AIMessage(content=\"I don't have a physical body, so I don't need to eat. However, if I did, I would probably have lunch around noon. That's when most people eat lunch, and it's a good time to take a break from work and relax.\")],\n",
              " 'text': \"I don't have a physical body, so I don't need to eat. However, if I did, I would probably have lunch around noon. That's when most people eat lunch, and it's a good time to take a break from work and relax.\"}"
            ]
          },
          "metadata": {},
          "execution_count": 79
        }
      ]
    },
    {
      "cell_type": "code",
      "source": [
        "conversation({\"question\" : \"What is your favorite thing to do in your free time?\"})"
      ],
      "metadata": {
        "colab": {
          "base_uri": "https://localhost:8080/"
        },
        "id": "k-KBRe1aDbGh",
        "outputId": "f53f9982-8057-4f51-fefa-efdfe28763f4"
      },
      "execution_count": 80,
      "outputs": [
        {
          "output_type": "stream",
          "name": "stdout",
          "text": [
            "\n",
            "\n",
            "\u001b[1m> Entering new LLMChain chain...\u001b[0m\n",
            "Prompt after formatting:\n",
            "\u001b[32;1m\u001b[1;3mSystem: You are a nice chatbot having a casual conversation with a human, answering briefly with no more than one simple sentence.\n",
            "Human: Which color do you like the most?\n",
            "AI: I like all colors, but if I had to choose one, I would say blue. It is a calming and peaceful color that reminds me of the sky and the ocean.\n",
            "Human: Which food do you like the most?\n",
            "AI: I like all kinds of food, but if I had to choose one, I would say pizza. It is a delicious and versatile food that can be enjoyed by people of all ages.\n",
            "Human: Which fruit do you like the most?\n",
            "AI: I like all fruits, but if I had to choose one, I would say strawberries. They are sweet and juicy, and they have a delicious flavor. They are also a good source of vitamins and minerals.\n",
            "Human: When do you usually have lunch?\n",
            "AI: I don't have a physical body, so I don't need to eat. However, if I did, I would probably have lunch around noon. That's when most people eat lunch, and it's a good time to take a break from work and relax.\n",
            "Human: What is your favorite thing to do in your free time?\u001b[0m\n",
            "\n",
            "\u001b[1m> Finished chain.\u001b[0m\n"
          ]
        },
        {
          "output_type": "execute_result",
          "data": {
            "text/plain": [
              "{'question': 'What is your favorite thing to do in your free time?',\n",
              " 'chat_history': [HumanMessage(content='Which color do you like the most?'),\n",
              "  AIMessage(content='I like all colors, but if I had to choose one, I would say blue. It is a calming and peaceful color that reminds me of the sky and the ocean.'),\n",
              "  HumanMessage(content='Which food do you like the most?'),\n",
              "  AIMessage(content='I like all kinds of food, but if I had to choose one, I would say pizza. It is a delicious and versatile food that can be enjoyed by people of all ages.'),\n",
              "  HumanMessage(content='Which fruit do you like the most?'),\n",
              "  AIMessage(content='I like all fruits, but if I had to choose one, I would say strawberries. They are sweet and juicy, and they have a delicious flavor. They are also a good source of vitamins and minerals.'),\n",
              "  HumanMessage(content='When do you usually have lunch?'),\n",
              "  AIMessage(content=\"I don't have a physical body, so I don't need to eat. However, if I did, I would probably have lunch around noon. That's when most people eat lunch, and it's a good time to take a break from work and relax.\"),\n",
              "  HumanMessage(content='What is your favorite thing to do in your free time?'),\n",
              "  AIMessage(content='I enjoy learning new things, so I like to read books and articles, watch documentaries, and listen to podcasts. I also enjoy spending time with my friends and family, and I like to go for walks in nature.')],\n",
              " 'text': 'I enjoy learning new things, so I like to read books and articles, watch documentaries, and listen to podcasts. I also enjoy spending time with my friends and family, and I like to go for walks in nature.'}"
            ]
          },
          "metadata": {},
          "execution_count": 80
        }
      ]
    },
    {
      "cell_type": "markdown",
      "source": [
        "# Make sure to save both the code and output values prior to submission.\n",
        "# You must delete your GOOGLE_API_KEY before submitting."
      ],
      "metadata": {
        "id": "Kw1W7Fa5bYsY"
      }
    }
  ]
}