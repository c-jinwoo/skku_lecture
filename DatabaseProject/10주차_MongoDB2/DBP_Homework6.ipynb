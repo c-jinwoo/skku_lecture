{
  "nbformat": 4,
  "nbformat_minor": 0,
  "metadata": {
    "colab": {
      "provenance": []
    },
    "kernelspec": {
      "name": "python3",
      "display_name": "Python 3"
    },
    "language_info": {
      "name": "python"
    }
  },
  "cells": [
    {
      "cell_type": "markdown",
      "source": [
        "# Database Project (SWE3033) (Fall 2023)\n",
        "# Homework #6 (50pts, Due date: 11/8)"
      ],
      "metadata": {
        "id": "jy8QppvPvj9l"
      }
    },
    {
      "cell_type": "markdown",
      "source": [
        "**Instruction:** In this homework, we provide you with a jupyter notebook file (DBP_Homework6.ipynb). You should follow the instructions in these documents carefully."
      ],
      "metadata": {
        "id": "7laGsHMavk_Z"
      }
    },
    {
      "cell_type": "markdown",
      "source": [
        "**Submit two files as follows**:\n",
        "- `DBP_Homework6_StudentID.zip`\n",
        "\t- `DBP_Homework6_StudentID.ipynb`\n",
        "\t- `DBP_Homework6_StudentID.pdf`\n",
        "   "
      ],
      "metadata": {
        "id": "x5XgneZEvn5a"
      }
    },
    {
      "cell_type": "markdown",
      "source": [
        "**Important:** When submitting, you must delete your ***CONNECTION_STRING***.\n",
        "- Your Username and Password information are here.\n",
        "- Be sure to remove this before submitting."
      ],
      "metadata": {
        "id": "-CXypRrQvwrq"
      }
    },
    {
      "cell_type": "markdown",
      "source": [
        "### Install pymongo library"
      ],
      "metadata": {
        "id": "LldhspClv0h7"
      }
    },
    {
      "cell_type": "code",
      "execution_count": null,
      "metadata": {
        "id": "hGDlOY6RuIef"
      },
      "outputs": [],
      "source": [
        "!pip install pymongo"
      ]
    },
    {
      "cell_type": "markdown",
      "source": [
        "### Import required library"
      ],
      "metadata": {
        "id": "gXfz2pwqv2wR"
      }
    },
    {
      "cell_type": "code",
      "source": [
        "import os\n",
        "import time\n",
        "import json\n",
        "from tqdm import tqdm\n",
        "\n",
        "import pymongo\n",
        "from pymongo import MongoClient"
      ],
      "metadata": {
        "id": "kZDg7kT4uMoN"
      },
      "execution_count": null,
      "outputs": []
    },
    {
      "cell_type": "code",
      "source": [
        "# Important: You must delete this line before submitting!\n",
        "CONNECTION_STRING = None"
      ],
      "metadata": {
        "id": "GD3HchLzuOMV"
      },
      "execution_count": null,
      "outputs": []
    },
    {
      "cell_type": "code",
      "source": [
        "my_client = MongoClient(CONNECTION_STRING)\n",
        "\n",
        "database = my_client['root']\n",
        "collection = database['WordCountHW']"
      ],
      "metadata": {
        "id": "IXOJCfxLv4Hy"
      },
      "execution_count": null,
      "outputs": []
    },
    {
      "cell_type": "markdown",
      "source": [
        "# 1."
      ],
      "metadata": {
        "id": "mSTgp9uuwCcK"
      }
    },
    {
      "cell_type": "code",
      "source": [
        "# Load json file and save the provided documents to a collection\n",
        "\n",
        "collection.drop()\n",
        "\n",
        "# It may take approximately a few minutes to complete.\n",
        "# ============= EDIT HERE =============\n",
        "\n",
        "\n",
        "# ====================================="
      ],
      "metadata": {
        "id": "w0W546l5wlqN"
      },
      "execution_count": null,
      "outputs": []
    },
    {
      "cell_type": "code",
      "source": [
        "# Find and display listings that meet the requirements\n",
        "# ============= EDIT HERE =============\n",
        "result = None\n",
        "\n",
        "\n",
        "\n",
        "# =====================================\n",
        "\n",
        "for doc in result:\n",
        "    print(doc)"
      ],
      "metadata": {
        "id": "f3M687qBwBNR"
      },
      "execution_count": null,
      "outputs": []
    },
    {
      "cell_type": "markdown",
      "source": [
        "# 2."
      ],
      "metadata": {
        "id": "Fndf36DMwHhY"
      }
    },
    {
      "cell_type": "code",
      "source": [
        "# ============= EDIT HERE =============\n",
        "\n",
        "\n",
        "# ====================================="
      ],
      "metadata": {
        "id": "ZUWfcy9d0Ya0"
      },
      "execution_count": null,
      "outputs": []
    },
    {
      "cell_type": "markdown",
      "source": [
        "# 3."
      ],
      "metadata": {
        "id": "ZBZlAVMY0Pjo"
      }
    },
    {
      "cell_type": "code",
      "source": [
        "# ============= EDIT HERE =============\n",
        "\n",
        "\n",
        "# ====================================="
      ],
      "metadata": {
        "id": "Z1Q3VNVkv-2a"
      },
      "execution_count": null,
      "outputs": []
    },
    {
      "cell_type": "markdown",
      "source": [
        "# Make sure to save both the code and output values prior to submission.\n",
        "# You must delete your CONNECTION_STRING before submitting."
      ],
      "metadata": {
        "id": "ZRZHG_Bd0XWO"
      }
    }
  ]
}