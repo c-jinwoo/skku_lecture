{
  "nbformat": 4,
  "nbformat_minor": 0,
  "metadata": {
    "colab": {
      "provenance": []
    },
    "kernelspec": {
      "name": "python3",
      "display_name": "Python 3"
    },
    "language_info": {
      "name": "python"
    }
  },
  "cells": [
    {
      "cell_type": "markdown",
      "source": [
        "# Database Project (SWE3033) (Fall 2023)\n",
        "# Homework #6 (50pts, Due date: 11/8)"
      ],
      "metadata": {
        "id": "jy8QppvPvj9l"
      }
    },
    {
      "cell_type": "markdown",
      "source": [
        "**Instruction:** In this homework, we provide you with a jupyter notebook file (DBP_Homework6.ipynb). You should follow the instructions in these documents carefully."
      ],
      "metadata": {
        "id": "7laGsHMavk_Z"
      }
    },
    {
      "cell_type": "markdown",
      "source": [
        "**Submit two files as follows**:\n",
        "- `DBP_Homework6_StudentID.zip`\n",
        "\t- `DBP_Homework6_StudentID.ipynb`\n",
        "\t- `DBP_Homework6_StudentID.pdf`\n",
        "   "
      ],
      "metadata": {
        "id": "x5XgneZEvn5a"
      }
    },
    {
      "cell_type": "markdown",
      "source": [
        "**Important:** When submitting, you must delete your ***CONNECTION_STRING***.\n",
        "- Your Username and Password information are here.\n",
        "- Be sure to remove this before submitting."
      ],
      "metadata": {
        "id": "-CXypRrQvwrq"
      }
    },
    {
      "cell_type": "markdown",
      "source": [
        "### Install pymongo library"
      ],
      "metadata": {
        "id": "LldhspClv0h7"
      }
    },
    {
      "cell_type": "code",
      "execution_count": 1,
      "metadata": {
        "id": "hGDlOY6RuIef",
        "colab": {
          "base_uri": "https://localhost:8080/"
        },
        "outputId": "ab32f0ae-d1cd-4fb0-a50f-b6dfbf4a9b21"
      },
      "outputs": [
        {
          "output_type": "stream",
          "name": "stdout",
          "text": [
            "Collecting pymongo\n",
            "  Downloading pymongo-4.5.0-cp310-cp310-manylinux_2_17_x86_64.manylinux2014_x86_64.whl (671 kB)\n",
            "\u001b[2K     \u001b[90m━━━━━━━━━━━━━━━━━━━━━━━━━━━━━━━━━━━━━━━━\u001b[0m \u001b[32m671.3/671.3 kB\u001b[0m \u001b[31m8.2 MB/s\u001b[0m eta \u001b[36m0:00:00\u001b[0m\n",
            "\u001b[?25hCollecting dnspython<3.0.0,>=1.16.0 (from pymongo)\n",
            "  Downloading dnspython-2.4.2-py3-none-any.whl (300 kB)\n",
            "\u001b[2K     \u001b[90m━━━━━━━━━━━━━━━━━━━━━━━━━━━━━━━━━━━━━━━━\u001b[0m \u001b[32m300.4/300.4 kB\u001b[0m \u001b[31m29.0 MB/s\u001b[0m eta \u001b[36m0:00:00\u001b[0m\n",
            "\u001b[?25hInstalling collected packages: dnspython, pymongo\n",
            "Successfully installed dnspython-2.4.2 pymongo-4.5.0\n"
          ]
        }
      ],
      "source": [
        "!pip install pymongo"
      ]
    },
    {
      "cell_type": "markdown",
      "source": [
        "### Import required library"
      ],
      "metadata": {
        "id": "gXfz2pwqv2wR"
      }
    },
    {
      "cell_type": "code",
      "source": [
        "import os\n",
        "import time\n",
        "import json\n",
        "from tqdm import tqdm\n",
        "\n",
        "import pymongo\n",
        "from pymongo import MongoClient"
      ],
      "metadata": {
        "id": "kZDg7kT4uMoN"
      },
      "execution_count": 15,
      "outputs": []
    },
    {
      "cell_type": "code",
      "source": [
        "my_client = MongoClient(CONNECTION_STRING)\n",
        "\n",
        "database = my_client['root']\n",
        "collection = database['WordCountHW']"
      ],
      "metadata": {
        "id": "IXOJCfxLv4Hy"
      },
      "execution_count": 17,
      "outputs": []
    },
    {
      "cell_type": "markdown",
      "source": [
        "# 1."
      ],
      "metadata": {
        "id": "mSTgp9uuwCcK"
      }
    },
    {
      "cell_type": "code",
      "source": [
        "# Load json file and save the provided documents to a collection\n",
        "\n",
        "collection.drop()\n",
        "\n",
        "# It may take approximately a few minutes to complete.\n",
        "# ============= EDIT HERE =============\n",
        "\n",
        "doc_list = []\n",
        "for line in open('airbnb-listings-newyork.json', 'r'):\n",
        "    doc_list.append(json.loads(line))\n",
        "\n",
        "collection.insert_many(doc_list)\n",
        "\n",
        "\n",
        "# ====================================="
      ],
      "metadata": {
        "id": "w0W546l5wlqN",
        "colab": {
          "base_uri": "https://localhost:8080/"
        },
        "outputId": "10776ca7-989c-4316-9c48-aaca9163dfd5"
      },
      "execution_count": 18,
      "outputs": [
        {
          "output_type": "execute_result",
          "data": {
            "text/plain": [
              "<pymongo.results.InsertManyResult at 0x7bb8dc558f70>"
            ]
          },
          "metadata": {},
          "execution_count": 18
        }
      ]
    },
    {
      "cell_type": "code",
      "source": [
        "# Find and display listings that meet the requirements\n",
        "# ============= EDIT HERE =============\n",
        "\n",
        "search_criteria = {\n",
        "    \"property_type\": \"Apartment\",\n",
        "    \"accommodates\": 4,\n",
        "    \"beds\": {\"$gte\": 3},\n",
        "    \"amenities\": {\n",
        "        \"$all\": [\n",
        "            \"Wireless Internet\",\n",
        "            \"Fire extinguisher\",\n",
        "            \"Air conditioning\",\n",
        "            \"TV\",\n",
        "            \"Dryer\",\n",
        "            \"Elevator in building\"\n",
        "        ]\n",
        "    }\n",
        "}\n",
        "\n",
        "sorting = [(\"price\", pymongo.DESCENDING)]\n",
        "result = collection.find(search_criteria).sort(sorting)\n",
        "\n",
        "\n",
        "# =====================================\n",
        "\n",
        "for doc in result:\n",
        "    print(doc)"
      ],
      "metadata": {
        "id": "f3M687qBwBNR",
        "colab": {
          "base_uri": "https://localhost:8080/"
        },
        "outputId": "852fbcc6-6bdf-4ad5-fe3e-6b75689bb60a"
      },
      "execution_count": 19,
      "outputs": [
        {
          "output_type": "stream",
          "name": "stdout",
          "text": [
            "{'_id': 8212713, 'name': '5 min WALK to Central Park South (20% discount)', 'property_type': 'Apartment', 'room_type': 'Entire home/apt', 'accommodates': 4, 'beds': 3.0, 'amenities': ['TV', 'Internet', 'Wireless Internet', 'Air conditioning', 'Wheelchair accessible', 'Kitchen', 'Doorman', 'Elevator in building', 'Hot tub', 'Heating', 'Family/kid friendly', 'Washer', 'Dryer', 'Smoke detector', 'Carbon monoxide detector', 'Fire extinguisher', 'Essentials', 'Shampoo', 'Hangers', 'Hair dryer', 'Iron', 'Laptop friendly workspace'], 'price': 217.0, 'text': \"20% discount if you book 7 days or more!  This is a 750sqft 1 bedroom apartment, with open balcony in a 24-hour doorman building in Hell's Kitchen neighborhood where you find all different restaurants from all over the world. Columbus Circle and Central Park is 5 min away for you to enjoy.\"}\n",
            "{'_id': 15048288, 'name': 'Charming Upper East Side apt - Designer Furniture', 'property_type': 'Apartment', 'room_type': 'Entire home/apt', 'accommodates': 4, 'beds': 3.0, 'amenities': ['TV', 'Wireless Internet', 'Air conditioning', 'Kitchen', 'Pets allowed', 'Elevator in building', 'Heating', 'Family/kid friendly', 'Washer', 'Dryer', 'Smoke detector', 'Carbon monoxide detector', 'First aid kit', 'Fire extinguisher', 'Essentials', 'Shampoo', 'Lock on bedroom door', '24-hour check-in', 'Hangers', 'Hair dryer', 'Iron', 'Laptop friendly workspace'], 'price': 175.0, 'text': 'Quiet sunny great apartment - 2 big bedrooms available 1 with bunk beds perfect for kids  4 blocks from Central park and close to many museums and 2 blocks from subway'}\n"
          ]
        }
      ]
    },
    {
      "cell_type": "markdown",
      "source": [
        "# 2."
      ],
      "metadata": {
        "id": "Fndf36DMwHhY"
      }
    },
    {
      "cell_type": "code",
      "source": [
        "# ============= EDIT HERE =============\n",
        "\n",
        "# Use the aggregation framework to count and sort the amenities\n",
        "pipeline = [\n",
        "    {\n",
        "        \"$unwind\": \"$amenities\"\n",
        "    },\n",
        "    {\n",
        "        \"$group\": {\n",
        "            \"_id\": \"$amenities\",\n",
        "            \"count\": {\"$sum\": 1}\n",
        "        }\n",
        "    },\n",
        "    {\n",
        "        \"$sort\": {\"count\": -1}\n",
        "    },\n",
        "    {\n",
        "        \"$limit\": 10\n",
        "    }\n",
        "]\n",
        "\n",
        "results = collection.aggregate(pipeline)\n",
        "\n",
        "for result in results:\n",
        "    output = {\n",
        "        \"_id\": result[\"_id\"],\n",
        "        \"value\": {\"count\": result[\"count\"]}\n",
        "    }\n",
        "    print(output)\n",
        "\n",
        "# ====================================="
      ],
      "metadata": {
        "id": "ZUWfcy9d0Ya0",
        "colab": {
          "base_uri": "https://localhost:8080/"
        },
        "outputId": "f3ed15c1-c0b5-460c-b45b-0ff1743b00dd"
      },
      "execution_count": 11,
      "outputs": [
        {
          "output_type": "stream",
          "name": "stdout",
          "text": [
            "{'_id': 'Wireless Internet', 'value': {'count': 972}}\n",
            "{'_id': 'Kitchen', 'value': {'count': 957}}\n",
            "{'_id': 'Heating', 'value': {'count': 937}}\n",
            "{'_id': 'Air conditioning', 'value': {'count': 853}}\n",
            "{'_id': 'Essentials', 'value': {'count': 851}}\n",
            "{'_id': 'Smoke detector', 'value': {'count': 805}}\n",
            "{'_id': 'Internet', 'value': {'count': 718}}\n",
            "{'_id': 'TV', 'value': {'count': 695}}\n",
            "{'_id': 'Shampoo', 'value': {'count': 662}}\n",
            "{'_id': 'Hangers', 'value': {'count': 624}}\n"
          ]
        }
      ]
    },
    {
      "cell_type": "markdown",
      "source": [
        "# 3."
      ],
      "metadata": {
        "id": "ZBZlAVMY0Pjo"
      }
    },
    {
      "cell_type": "code",
      "source": [
        "# ============= EDIT HERE =============\n",
        "\n",
        "pipeline = [\n",
        "    {\n",
        "        '$project': {\n",
        "            'words': {\n",
        "                '$split': ['$text', ' ']\n",
        "              }\n",
        "          }\n",
        "    },\n",
        "    {\n",
        "        \"$unwind\": {\n",
        "            \"path\": \"$words\"\n",
        "        }\n",
        "    },\n",
        "    {\n",
        "        \"$group\": {\n",
        "            \"_id\": {\n",
        "                \"word\": \"$words\"\n",
        "            },\n",
        "            \"count\": {\"$sum\": 1}\n",
        "        }\n",
        "    },\n",
        "    {\n",
        "        \"$sort\": {\"count\": -1}\n",
        "    },\n",
        "    {\n",
        "        \"$limit\": 10\n",
        "    }\n",
        "]\n",
        "\n",
        "results = collection.aggregate(pipeline)\n",
        "\n",
        "for result in results:\n",
        "    output = {\n",
        "        \"_id\": {\"word\": result[\"_id\"][\"word\"]},\n",
        "        \"value\": {\"count\": result[\"count\"]}\n",
        "    }\n",
        "    print(output)\n",
        "\n",
        "\n",
        "# ====================================="
      ],
      "metadata": {
        "id": "Z1Q3VNVkv-2a",
        "colab": {
          "base_uri": "https://localhost:8080/"
        },
        "outputId": "8dbb290b-f9b9-472c-f59d-be6b11450680"
      },
      "execution_count": 13,
      "outputs": [
        {
          "output_type": "stream",
          "name": "stdout",
          "text": [
            "{'_id': {'word': 'and'}, 'value': {'count': 1989}}\n",
            "{'_id': {'word': 'the'}, 'value': {'count': 1795}}\n",
            "{'_id': {'word': 'a'}, 'value': {'count': 1217}}\n",
            "{'_id': {'word': 'in'}, 'value': {'count': 1131}}\n",
            "{'_id': {'word': 'to'}, 'value': {'count': 1116}}\n",
            "{'_id': {'word': 'is'}, 'value': {'count': 922}}\n",
            "{'_id': {'word': 'of'}, 'value': {'count': 919}}\n",
            "{'_id': {'word': ''}, 'value': {'count': 610}}\n",
            "{'_id': {'word': 'with'}, 'value': {'count': 596}}\n",
            "{'_id': {'word': 'for'}, 'value': {'count': 496}}\n"
          ]
        }
      ]
    },
    {
      "cell_type": "markdown",
      "source": [
        "# Make sure to save both the code and output values prior to submission.\n",
        "# You must delete your CONNECTION_STRING before submitting."
      ],
      "metadata": {
        "id": "ZRZHG_Bd0XWO"
      }
    }
  ]
}